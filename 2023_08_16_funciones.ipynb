{
  "cells": [
    {
      "cell_type": "markdown",
      "metadata": {
        "id": "view-in-github",
        "colab_type": "text"
      },
      "source": [
        "<a href=\"https://colab.research.google.com/github/Ana-Karem-Garcia/Curso-Python/blob/main/2023_08_16_funciones.ipynb\" target=\"_parent\"><img src=\"https://colab.research.google.com/assets/colab-badge.svg\" alt=\"Open In Colab\"/></a>"
      ]
    },
    {
      "cell_type": "markdown",
      "metadata": {
        "id": "SL0jCCn9RdSG"
      },
      "source": [
        "Funciones\n",
        "=========\n",
        "\n",
        "**Date:** 2023-08-16\n",
        "\n"
      ]
    },
    {
      "cell_type": "markdown",
      "metadata": {
        "id": "d6SIK7l_RdSJ"
      },
      "source": [
        "## Funciones\n",
        "\n"
      ]
    },
    {
      "cell_type": "code",
      "execution_count": 1,
      "metadata": {
        "colab": {
          "base_uri": "https://localhost:8080/"
        },
        "id": "dtTclUmvRdSL",
        "outputId": "51743e69-3c09-4453-b71d-09203aa3f77c"
      },
      "outputs": [
        {
          "output_type": "execute_result",
          "data": {
            "text/plain": [
              "['Ivan', 'Eunice', 'Fer', 'Samuel', 'Karem', 'Erick', 'Edgar']"
            ]
          },
          "metadata": {},
          "execution_count": 1
        }
      ],
      "source": [
        "inscritos = [\"Ivan\", \"Eunice\", \"Fer\", \"Samuel\", \"Karem\"]\n",
        "oyentes = [\"Erick\", \"Edgar\"]\n",
        "estudiantes = inscritos + oyentes\n",
        "estudiantes"
      ]
    },
    {
      "cell_type": "code",
      "execution_count": 3,
      "metadata": {
        "colab": {
          "base_uri": "https://localhost:8080/"
        },
        "id": "eCLb4IFXRdSM",
        "outputId": "f10de761-8712-4b63-e9aa-44ae3fa623d9"
      },
      "outputs": [
        {
          "output_type": "execute_result",
          "data": {
            "text/plain": [
              "49"
            ]
          },
          "metadata": {},
          "execution_count": 3
        }
      ],
      "source": [
        "cuadrado = 0\n",
        "\n",
        "def cuadrado(n):\n",
        "    return n**2\n",
        "\n",
        "cuadrado(7)"
      ]
    },
    {
      "cell_type": "code",
      "execution_count": 8,
      "metadata": {
        "colab": {
          "base_uri": "https://localhost:8080/"
        },
        "id": "QCmfFk__RdSN",
        "outputId": "bf4a1fcb-d0aa-4d37-85cb-86a73b9df38f"
      },
      "outputs": [
        {
          "output_type": "execute_result",
          "data": {
            "text/plain": [
              "('¡Hola, Karem! ¿Cómo estás?', '¿Qué materias llevas, Karem?')"
            ]
          },
          "metadata": {},
          "execution_count": 8
        }
      ],
      "source": [
        "def saludo(persona):\n",
        "    return \"¡Hola, \" + persona + \"! ¿Cómo estás?\"\n",
        "\n",
        "def materias(persona):\n",
        "    return \"¿Qué materias llevas, \" + persona + \"?\"\n",
        "\n",
        "saludo(\"Karem\"),materias(\"Karem\")"
      ]
    },
    {
      "cell_type": "code",
      "execution_count": 10,
      "metadata": {
        "colab": {
          "base_uri": "https://localhost:8080/"
        },
        "id": "AP-PYDVORdSO",
        "outputId": "37690d75-a6f4-4b8c-dd9a-94f3b06be91c"
      },
      "outputs": [
        {
          "output_type": "stream",
          "name": "stdout",
          "text": [
            "¡Hola, Ivan! ¿Cómo estás?\n",
            "¿Qué materias llevas, Ivan?\n",
            "\n",
            "¡Hola, Eunice! ¿Cómo estás?\n",
            "¿Qué materias llevas, Eunice?\n",
            "\n",
            "¡Hola, Fer! ¿Cómo estás?\n",
            "¿Qué materias llevas, Fer?\n",
            "\n",
            "¡Hola, Samuel! ¿Cómo estás?\n",
            "¿Qué materias llevas, Samuel?\n",
            "\n",
            "¡Hola, Karem! ¿Cómo estás?\n",
            "¿Qué materias llevas, Karem?\n",
            "\n",
            "¡Hola, Erick! ¿Cómo estás?\n",
            "¿Qué materias llevas, Erick?\n",
            "\n",
            "¡Hola, Edgar! ¿Cómo estás?\n",
            "¿Qué materias llevas, Edgar?\n",
            "\n"
          ]
        }
      ],
      "source": [
        "for estudiante in estudiantes:\n",
        "    print(saludo(estudiante))\n",
        "    print(materias(estudiante))\n",
        "    print()"
      ]
    },
    {
      "cell_type": "code",
      "execution_count": 15,
      "metadata": {
        "colab": {
          "base_uri": "https://localhost:8080/"
        },
        "id": "xi6HCe6HRdSP",
        "outputId": "cdc05e07-03b3-4c8a-9103-ffbea50fe95f"
      },
      "outputs": [
        {
          "output_type": "execute_result",
          "data": {
            "text/plain": [
              "[0,\n",
              " 1,\n",
              " 1,\n",
              " 2,\n",
              " 3,\n",
              " 5,\n",
              " 8,\n",
              " 13,\n",
              " 21,\n",
              " 34,\n",
              " 55,\n",
              " 89,\n",
              " 144,\n",
              " 233,\n",
              " 377,\n",
              " 610,\n",
              " 987,\n",
              " 1597,\n",
              " 2584,\n",
              " 4181,\n",
              " 6765]"
            ]
          },
          "metadata": {},
          "execution_count": 15
        }
      ],
      "source": [
        "def cuadrados_fibonacci(n):\n",
        "    fibs = []\n",
        "    a, b = 0, 1\n",
        "    while a < n:\n",
        "        fibs.append(a)\n",
        "        a, b = b, a+b\n",
        "    return fibs\n",
        "\n",
        "cuadrados_fibonacci(10000)"
      ]
    },
    {
      "cell_type": "code",
      "execution_count": 14,
      "metadata": {
        "colab": {
          "base_uri": "https://localhost:8080/"
        },
        "id": "M4IBBcUbRdSQ",
        "outputId": "53883d15-dbd8-4d68-c917-a52a70959a4e"
      },
      "outputs": [
        {
          "output_type": "execute_result",
          "data": {
            "text/plain": [
              "[0, 1, 4, 9, 16, 25, 36, 49, 64, 81, 100]"
            ]
          },
          "metadata": {},
          "execution_count": 14
        }
      ],
      "source": [
        "def cuadrados(n):\n",
        "    cua = []\n",
        "    for i in range(n):\n",
        "        if i**2 <= n:\n",
        "            cua.append(i**2)\n",
        "        else:\n",
        "            break\n",
        "    return cua\n",
        "\n",
        "cuadrados(100)"
      ]
    },
    {
      "cell_type": "markdown",
      "source": [
        "La funcion `int` da numeros enteros"
      ],
      "metadata": {
        "id": "gfIJHHKWUfJh"
      }
    },
    {
      "cell_type": "code",
      "execution_count": 16,
      "metadata": {
        "colab": {
          "base_uri": "https://localhost:8080/"
        },
        "id": "xMXr8mVURdSR",
        "outputId": "c2627131-9f32-46fe-f1b8-c3f06d4394ef"
      },
      "outputs": [
        {
          "output_type": "execute_result",
          "data": {
            "text/plain": [
              "4"
            ]
          },
          "metadata": {},
          "execution_count": 16
        }
      ],
      "source": [
        "int(4.999999999)"
      ]
    },
    {
      "cell_type": "code",
      "execution_count": 17,
      "metadata": {
        "colab": {
          "base_uri": "https://localhost:8080/"
        },
        "id": "AKgGxAF6RdSR",
        "outputId": "5845cd87-d399-4841-8b45-ef0526739b48"
      },
      "outputs": [
        {
          "output_type": "execute_result",
          "data": {
            "text/plain": [
              "(True, False, True)"
            ]
          },
          "metadata": {},
          "execution_count": 17
        }
      ],
      "source": [
        "#La biblioteca sympy hace calculos simbolicos\n",
        "from sympy import sqrt\n",
        "\n",
        "def es_cuadrado(n):\n",
        "    if int(sqrt(n)) ** 2 == n:\n",
        "        return True\n",
        "    else:\n",
        "        return False\n",
        "\n",
        "es_cuadrado(25), es_cuadrado(20), es_cuadrado(99999999222222222**2)"
      ]
    },
    {
      "cell_type": "code",
      "execution_count": 20,
      "metadata": {
        "colab": {
          "base_uri": "https://localhost:8080/"
        },
        "id": "0tAEMibqRdSS",
        "outputId": "4804f135-6691-4eb2-94ba-1eb4c7f6babd"
      },
      "outputs": [
        {
          "output_type": "execute_result",
          "data": {
            "text/plain": [
              "[0, 1, 1, 144]"
            ]
          },
          "metadata": {},
          "execution_count": 20
        }
      ],
      "source": [
        "from sympy import sqrt\n",
        "\n",
        "def es_cuadrado(n):\n",
        "    return int(sqrt(n)) ** 2 == n\n",
        "\n",
        "def cuadrados_fibonacci(n):\n",
        "    fibs = []\n",
        "    a, b = 0, 1\n",
        "    while a < n:\n",
        "        if es_cuadrado(a):\n",
        "            fibs.append(a)\n",
        "        a, b = b, a+b\n",
        "    return fibs\n",
        "\n",
        "cuadrados_fibonacci(100000000000000000000)"
      ]
    },
    {
      "cell_type": "code",
      "execution_count": 19,
      "metadata": {
        "colab": {
          "base_uri": "https://localhost:8080/"
        },
        "id": "aDA5x_jGRdSS",
        "outputId": "ca6a580c-9d9b-4e33-e3fb-a7d482bdee92"
      },
      "outputs": [
        {
          "output_type": "stream",
          "name": "stdout",
          "text": [
            "-- ¡Qué milagro que viene por aquí!\n",
            "-- Vine a traerle este humilde obsequio\n",
            "-- ¿No quiere pasar a tomar una tacita de café?\n"
          ]
        }
      ],
      "source": [
        "def diálogo(evento, objeto, bebida):\n",
        "    print(f\"-- ¡Qué {evento} que viene por aquí!\")\n",
        "    print(f\"-- Vine a traerle este humilde {objeto}\")\n",
        "    print(f\"-- ¿No quiere pasar a tomar {bebida}?\")\n",
        "\n",
        "diálogo(\"milagro\", \"obsequio\", \"una tacita de café\")"
      ]
    },
    {
      "cell_type": "code",
      "execution_count": 21,
      "metadata": {
        "colab": {
          "base_uri": "https://localhost:8080/"
        },
        "id": "LFsO6slURdST",
        "outputId": "6cd5deb7-95be-47fd-bf28-32dc8c4caf64"
      },
      "outputs": [
        {
          "output_type": "stream",
          "name": "stdout",
          "text": [
            "-- ¡Qué casualidad que viene por aquí!\n",
            "-- Vine a traerle este humilde regalo\n",
            "-- ¿No quiere pasar a tomar un té?\n"
          ]
        }
      ],
      "source": [
        "diálogo(\"casualidad\", \"regalo\", \"un té\")"
      ]
    },
    {
      "cell_type": "code",
      "execution_count": 31,
      "metadata": {
        "colab": {
          "base_uri": "https://localhost:8080/"
        },
        "id": "ZnH28BeHRdST",
        "outputId": "d008dcc6-63b5-4b7b-86c6-c6e99276b022"
      },
      "outputs": [
        {
          "output_type": "stream",
          "name": "stdout",
          "text": [
            "-- ¡Qué milagro que viene por aquí!\n",
            "-- Vine a traerle este humilde obsequio\n",
            "-- ¿No quiere pasar a tomar una tacita de café?\n"
          ]
        }
      ],
      "source": [
        "def diálogo(evento=\"milagro\", objeto=\"obsequio\", bebida=\"una tacita de café\"):\n",
        "    print(f\"-- ¡Qué {evento} que viene por aquí!\")\n",
        "    print(f\"-- Vine a traerle este humilde {objeto}\")\n",
        "    print(f\"-- ¿No quiere pasar a tomar {bebida}?\")\n",
        "\n",
        "diálogo()"
      ]
    },
    {
      "cell_type": "code",
      "execution_count": 22,
      "metadata": {
        "colab": {
          "base_uri": "https://localhost:8080/"
        },
        "id": "axqRxD_jRdST",
        "outputId": "5bb53c7f-f487-48f6-8f87-d91138572dc4"
      },
      "outputs": [
        {
          "output_type": "stream",
          "name": "stdout",
          "text": [
            "-- ¡Qué casualidad que viene por aquí!\n",
            "-- Vine a traerle este humilde regalo\n",
            "-- ¿No quiere pasar a tomar un té?\n"
          ]
        }
      ],
      "source": [
        "diálogo(\"casualidad\", \"regalo\", \"un té\")"
      ]
    },
    {
      "cell_type": "code",
      "execution_count": 29,
      "metadata": {
        "colab": {
          "base_uri": "https://localhost:8080/"
        },
        "id": "zuiutM6VRdSU",
        "outputId": "3e73efcf-3451-4931-e618-9553180823e1"
      },
      "outputs": [
        {
          "output_type": "stream",
          "name": "stdout",
          "text": [
            "-- ¡Qué sorpresa que viene por aquí!\n",
            "-- Vine a traerle este humilde presente\n",
            "-- ¿No quiere pasar a tomar atole?\n"
          ]
        }
      ],
      "source": [
        "diálogo(bebida=\"atole\", evento=\"sorpresa\", objeto=\"presente\")"
      ]
    },
    {
      "cell_type": "code",
      "execution_count": 32,
      "metadata": {
        "colab": {
          "base_uri": "https://localhost:8080/"
        },
        "id": "GkuO91JQRdSU",
        "outputId": "c4931fff-7f57-41f4-9b71-1609619141a8"
      },
      "outputs": [
        {
          "output_type": "stream",
          "name": "stdout",
          "text": [
            "-- ¡Qué milagro que viene por aquí!\n",
            "-- Vine a traerle este humilde obsequio\n",
            "-- ¿No quiere pasar a tomar un refresco?\n"
          ]
        }
      ],
      "source": [
        "diálogo(bebida=\"un refresco\")"
      ]
    },
    {
      "cell_type": "code",
      "execution_count": 26,
      "metadata": {
        "colab": {
          "base_uri": "https://localhost:8080/"
        },
        "id": "xo4ZFDqWRdSU",
        "outputId": "029a33f1-7584-4ae0-83ca-f11b763afd96"
      },
      "outputs": [
        {
          "output_type": "stream",
          "name": "stdout",
          "text": [
            "-- ¡Qué coincidencia que viene por aquí!\n",
            "-- Vine a traerle este humilde obsequio\n",
            "-- ¿No quiere pasar a tomar una tacita de café?\n"
          ]
        }
      ],
      "source": [
        "def diálogo(evento, objeto=\"obsequio\", bebida=\"una tacita de café\"):\n",
        "    print(f\"-- ¡Qué {evento} que viene por aquí!\")\n",
        "    print(f\"-- Vine a traerle este humilde {objeto}\")\n",
        "    print(f\"-- ¿No quiere pasar a tomar {bebida}?\")\n",
        "\n",
        "diálogo(\"coincidencia\")"
      ]
    },
    {
      "cell_type": "code",
      "execution_count": 27,
      "metadata": {
        "colab": {
          "base_uri": "https://localhost:8080/"
        },
        "id": "x3ZY_o3eRdSV",
        "outputId": "6740f734-79fc-498b-a954-16850574e617"
      },
      "outputs": [
        {
          "output_type": "stream",
          "name": "stdout",
          "text": [
            "-- ¡Qué coincidencia que viene por aquí!\n",
            "-- Vine a traerle este humilde obsequio\n",
            "-- ¿No quiere pasar a tomar una copita?\n"
          ]
        }
      ],
      "source": [
        "diálogo(\"coincidencia\", bebida=\"una copita\")"
      ]
    },
    {
      "cell_type": "markdown",
      "metadata": {
        "id": "a-SbOxt6RdSV"
      },
      "source": [
        "## Ejemplo práctico\n",
        "\n"
      ]
    },
    {
      "cell_type": "code",
      "execution_count": 33,
      "metadata": {
        "colab": {
          "base_uri": "https://localhost:8080/"
        },
        "id": "shLn1ZWoRdSV",
        "outputId": "7dc449c7-9838-4b12-ceb6-a5f241c34229"
      },
      "outputs": [
        {
          "output_type": "execute_result",
          "data": {
            "text/plain": [
              "[0, 1, 4, 9, 16, 25, 36, 49, 64, 81, 100]"
            ]
          },
          "metadata": {},
          "execution_count": 33
        }
      ],
      "source": [
        "def cuadrados(n):\n",
        "    cua = []\n",
        "    for i in range(n):\n",
        "        if i**2 <= n:\n",
        "            cua.append(i**2)\n",
        "        else:\n",
        "            break\n",
        "    return cua\n",
        "\n",
        "cuadrados(100)"
      ]
    },
    {
      "cell_type": "code",
      "execution_count": 40,
      "metadata": {
        "colab": {
          "base_uri": "https://localhost:8080/"
        },
        "id": "2rrkHvvlRdSW",
        "outputId": "8293a6f2-e798-437e-b875-b2b53c92e6d1"
      },
      "outputs": [
        {
          "output_type": "execute_result",
          "data": {
            "text/plain": [
              "[9, 16, 25, 36, 49, 64, 81, 100]"
            ]
          },
          "metadata": {},
          "execution_count": 40
        }
      ],
      "source": [
        "def cuadrados(n, inferior=0):\n",
        "    cua = []\n",
        "    for i in range(n):\n",
        "        if inferior <= i**2 <= n:\n",
        "            cua.append(i**2)\n",
        "        elif i**2 > n:\n",
        "            break\n",
        "    return cua\n",
        "\n",
        "cuadrados(100, inferior=9)"
      ]
    },
    {
      "cell_type": "code",
      "execution_count": 42,
      "metadata": {
        "colab": {
          "base_uri": "https://localhost:8080/",
          "height": 35
        },
        "id": "7inwo_WeRdSW",
        "outputId": "0f238c1b-fc87-4f5f-f1e6-3d3169916596"
      },
      "outputs": [
        {
          "output_type": "execute_result",
          "data": {
            "text/plain": [
              "'Buenos Dias Karem'"
            ],
            "application/vnd.google.colaboratory.intrinsic+json": {
              "type": "string"
            }
          },
          "metadata": {},
          "execution_count": 42
        }
      ],
      "source": [
        "def saludador(saludo):\n",
        "    def tttttttttttt(persona):  #Es una funcion que recibe cadenas\n",
        "        return saludo + \" \" + persona\n",
        "    return tttttttttttt\n",
        "\n",
        "f = saludador(\"Buenos Dias\")\n",
        "f(\"Karem\")"
      ]
    },
    {
      "cell_type": "code",
      "execution_count": 38,
      "metadata": {
        "colab": {
          "base_uri": "https://localhost:8080/",
          "height": 35
        },
        "id": "yEiQk14cRdSW",
        "outputId": "82265f5f-5585-49bc-d35b-156ad653a25d"
      },
      "outputs": [
        {
          "output_type": "execute_result",
          "data": {
            "text/plain": [
              "'Que tal Ivan'"
            ],
            "application/vnd.google.colaboratory.intrinsic+json": {
              "type": "string"
            }
          },
          "metadata": {},
          "execution_count": 38
        }
      ],
      "source": [
        "g = saludador(\"Que tal\")\n",
        "g(\"Ivan\")"
      ]
    },
    {
      "cell_type": "markdown",
      "metadata": {
        "id": "0a6JxLxhRdSX"
      },
      "source": [
        "## Tarea\n",
        "\n"
      ]
    },
    {
      "cell_type": "markdown",
      "metadata": {
        "id": "JCkEhXj3RdSX"
      },
      "source": [
        "Escribir una función que tenga un argumento obligatorio $n$ y un argumento opcional $pot$, y que regrese los números de fibonacci menores que $n$ que sean una potencia $pot$ exacta.\n",
        "\n",
        "Ya esta hecha la tarea\n",
        "\n"
      ]
    },
    {
      "cell_type": "code",
      "execution_count": 59,
      "metadata": {
        "colab": {
          "base_uri": "https://localhost:8080/"
        },
        "outputId": "1409912d-f85f-434a-8d37-6d8b35b06c4a",
        "id": "wat8JlgRa_a6"
      },
      "outputs": [
        {
          "name": "stdout",
          "output_type": "stream",
          "text": [
            "p=3\n"
          ]
        },
        {
          "output_type": "execute_result",
          "data": {
            "text/plain": [
              "[0, 1, 1, 8]"
            ]
          },
          "metadata": {},
          "execution_count": 59
        }
      ],
      "source": [
        "from sympy import sqrt\n",
        "\n",
        "p=0\n",
        "def pot(p):\n",
        "    return eval(p)\n",
        "p=input(\"p=\")\n",
        "\n",
        "def es_potencia(n):\n",
        "    return int(sqrt(n)) ** pot(p)== n\n",
        "\n",
        "def potencia_fibonacci(n):\n",
        "    fibs = []\n",
        "    a, b = 0, 1\n",
        "    while a < n:\n",
        "        if es_potencia(a):\n",
        "            fibs.append(a)\n",
        "        a, b = b, a+b\n",
        "    return fibs\n",
        "\n",
        "potencia_fibonacci(100000000000000000000)"
      ]
    },
    {
      "cell_type": "markdown",
      "metadata": {
        "id": "dXfFb_aIRdSX"
      },
      "source": [
        "## Documentación de las funciones y funciones anónimas\n",
        "\n"
      ]
    },
    {
      "cell_type": "code",
      "execution_count": null,
      "metadata": {
        "id": "Bq7Z0c-cRdSX"
      },
      "outputs": [],
      "source": [
        "def saludador(saludo=\"Hola\"):\n",
        "    \"\"\"Una función que regresa funciones saludadoras.\"\"\"\n",
        "    return lambda persona: saludo + \" \" + persona\n",
        "\n",
        "help(saludador)"
      ]
    },
    {
      "cell_type": "code",
      "execution_count": null,
      "metadata": {
        "id": "GuMn4fmBRdSX"
      },
      "outputs": [],
      "source": [
        "g = saludador(\"Que tal\")\n",
        "g(\"Karen\")"
      ]
    },
    {
      "cell_type": "code",
      "execution_count": null,
      "metadata": {
        "id": "npOWXH85RdSY"
      },
      "outputs": [],
      "source": [
        "fun = lambda x: x**2\n",
        "\n",
        "fun(4)"
      ]
    },
    {
      "cell_type": "markdown",
      "metadata": {
        "id": "z2jabwybRdSY"
      },
      "source": [
        "## Copia superficial\n",
        "\n"
      ]
    },
    {
      "cell_type": "markdown",
      "metadata": {
        "id": "2GbhYdjxRdSY"
      },
      "source": [
        "En inglés se llama *shallow copy*.\n",
        "\n"
      ]
    },
    {
      "cell_type": "code",
      "execution_count": 60,
      "metadata": {
        "colab": {
          "base_uri": "https://localhost:8080/"
        },
        "id": "wY34Q8DARdSY",
        "outputId": "9da1cbc9-6e9b-4d0c-ec9a-a7a0d6cb02fd"
      },
      "outputs": [
        {
          "output_type": "execute_result",
          "data": {
            "text/plain": [
              "['Ivan', 'Eunice', 'Fer', 'Samuel', 'Karem', 'Erick', 'Edgar']"
            ]
          },
          "metadata": {},
          "execution_count": 60
        }
      ],
      "source": [
        "estudiantes"
      ]
    },
    {
      "cell_type": "code",
      "execution_count": 62,
      "metadata": {
        "colab": {
          "base_uri": "https://localhost:8080/"
        },
        "id": "C1qFMNsvRdSY",
        "outputId": "3a8229c8-1052-4e7d-b4e9-43b1244f71d5"
      },
      "outputs": [
        {
          "output_type": "execute_result",
          "data": {
            "text/plain": [
              "['Ivan',\n",
              " 'Eunice',\n",
              " 'Fer',\n",
              " 'Samuel',\n",
              " 'Karem',\n",
              " 'Erick',\n",
              " 'Edgar',\n",
              " 'Nuevo',\n",
              " 'Rafael']"
            ]
          },
          "metadata": {},
          "execution_count": 62
        }
      ],
      "source": [
        "alumnos = estudiantes\n",
        "alumnos.append(\"Rafael\")\n",
        "alumnos"
      ]
    },
    {
      "cell_type": "code",
      "execution_count": 63,
      "metadata": {
        "colab": {
          "base_uri": "https://localhost:8080/"
        },
        "id": "Y9EodCM1RdSZ",
        "outputId": "f7413c02-71af-4603-8eb4-0a09d2d8a6d7"
      },
      "outputs": [
        {
          "output_type": "execute_result",
          "data": {
            "text/plain": [
              "['Ivan',\n",
              " 'Eunice',\n",
              " 'Fer',\n",
              " 'Samuel',\n",
              " 'Karem',\n",
              " 'Erick',\n",
              " 'Edgar',\n",
              " 'Nuevo',\n",
              " 'Rafael']"
            ]
          },
          "metadata": {},
          "execution_count": 63
        }
      ],
      "source": [
        "estudiantes"
      ]
    },
    {
      "cell_type": "code",
      "execution_count": 64,
      "metadata": {
        "colab": {
          "base_uri": "https://localhost:8080/"
        },
        "id": "Tv3GxwTrRdSZ",
        "outputId": "bbe50722-7b9c-4041-f591-c8e71f854be5"
      },
      "outputs": [
        {
          "output_type": "execute_result",
          "data": {
            "text/plain": [
              "2"
            ]
          },
          "metadata": {},
          "execution_count": 64
        }
      ],
      "source": [
        "a = 1\n",
        "b = a\n",
        "b = b+1\n",
        "b"
      ]
    },
    {
      "cell_type": "code",
      "execution_count": 65,
      "metadata": {
        "colab": {
          "base_uri": "https://localhost:8080/"
        },
        "id": "TBGSkcqRRdSZ",
        "outputId": "b9bc5926-2928-4f93-e18f-7fca260ba1fe"
      },
      "outputs": [
        {
          "output_type": "execute_result",
          "data": {
            "text/plain": [
              "1"
            ]
          },
          "metadata": {},
          "execution_count": 65
        }
      ],
      "source": [
        "a"
      ]
    },
    {
      "cell_type": "markdown",
      "metadata": {
        "id": "Xsp9QNv0RdSZ"
      },
      "source": [
        "### Más métodos del tipo lista\n",
        "\n"
      ]
    },
    {
      "cell_type": "markdown",
      "source": [
        "`pop`es una funcion que te dice cual fue el elemento que agregaste"
      ],
      "metadata": {
        "id": "mnhNcm6eeH3J"
      }
    },
    {
      "cell_type": "code",
      "execution_count": 66,
      "metadata": {
        "colab": {
          "base_uri": "https://localhost:8080/",
          "height": 35
        },
        "id": "uJlRzf5BRdSZ",
        "outputId": "3f568764-5d2b-4ce1-f23e-66f09a0020b8"
      },
      "outputs": [
        {
          "output_type": "execute_result",
          "data": {
            "text/plain": [
              "'Rafael'"
            ],
            "application/vnd.google.colaboratory.intrinsic+json": {
              "type": "string"
            }
          },
          "metadata": {},
          "execution_count": 66
        }
      ],
      "source": [
        "alumnos.pop()"
      ]
    },
    {
      "cell_type": "code",
      "execution_count": 67,
      "metadata": {
        "colab": {
          "base_uri": "https://localhost:8080/"
        },
        "id": "z9LjTzsoRdSZ",
        "outputId": "74a9234e-0c84-43a0-ee7d-20f1a466e127"
      },
      "outputs": [
        {
          "output_type": "execute_result",
          "data": {
            "text/plain": [
              "['Ivan', 'Eunice', 'Fer', 'Samuel', 'Karem', 'Erick', 'Edgar', 'Nuevo']"
            ]
          },
          "metadata": {},
          "execution_count": 67
        }
      ],
      "source": [
        "alumnos"
      ]
    },
    {
      "cell_type": "code",
      "execution_count": null,
      "metadata": {
        "id": "YNSRkX_CRdSa"
      },
      "outputs": [],
      "source": [
        "estudiantes"
      ]
    },
    {
      "cell_type": "code",
      "execution_count": null,
      "metadata": {
        "id": "eydGKyIERdSa"
      },
      "outputs": [],
      "source": [
        "alumnos2 = estudiantes.copy()\n",
        "alumnos2"
      ]
    },
    {
      "cell_type": "code",
      "execution_count": null,
      "metadata": {
        "id": "PwU4xLsLRdSa"
      },
      "outputs": [],
      "source": [
        "alumnos2.append(\"Nuevo\")\n",
        "alumnos2"
      ]
    },
    {
      "cell_type": "code",
      "execution_count": null,
      "metadata": {
        "id": "eDvWlCEMRdSa"
      },
      "outputs": [],
      "source": [
        "estudiantes"
      ]
    }
  ],
  "metadata": {
    "kernelspec": {
      "display_name": "Python 3",
      "language": "python",
      "name": "python3"
    },
    "language_info": {
      "codemirror_mode": {
        "name": "ipython",
        "version": 3
      },
      "file_extension": ".py",
      "mimetype": "text/x-python",
      "name": "python",
      "nbconvert_exporter": "python",
      "pygments_lexer": "ipython3",
      "version": "3.9.2"
    },
    "org": null,
    "colab": {
      "provenance": [],
      "include_colab_link": true
    }
  },
  "nbformat": 4,
  "nbformat_minor": 0
}