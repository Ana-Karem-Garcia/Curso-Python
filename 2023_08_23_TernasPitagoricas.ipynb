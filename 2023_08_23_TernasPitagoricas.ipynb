{
  "nbformat": 4,
  "nbformat_minor": 0,
  "metadata": {
    "colab": {
      "provenance": [],
      "authorship_tag": "ABX9TyN/558mFEAMVJFpuTX35GIG",
      "include_colab_link": true
    },
    "kernelspec": {
      "name": "python3",
      "display_name": "Python 3"
    },
    "language_info": {
      "name": "python"
    }
  },
  "cells": [
    {
      "cell_type": "markdown",
      "metadata": {
        "id": "view-in-github",
        "colab_type": "text"
      },
      "source": [
        "<a href=\"https://colab.research.google.com/github/Ana-Karem-Garcia/Curso-Python/blob/main/2023_08_23_TernasPitagoricas.ipynb\" target=\"_parent\"><img src=\"https://colab.research.google.com/assets/colab-badge.svg\" alt=\"Open In Colab\"/></a>"
      ]
    },
    {
      "cell_type": "markdown",
      "source": [
        "## Ternas Pitagoricas\n",
        "\n",
        "######2023/Agosto/23"
      ],
      "metadata": {
        "id": "-gE1bri2Nz_-"
      }
    },
    {
      "cell_type": "markdown",
      "source": [
        "Una terna pitagorica es: Dado tres numeros $x,y,z∈ℕ$ se cumple que  que $x²+y²=z²$\n",
        "\n"
      ],
      "metadata": {
        "id": "0gbYZz3DOCmL"
      }
    },
    {
      "cell_type": "markdown",
      "source": [
        "En el siguiente programa clasificaremos todas las ternas pitagoricas $(x,y,z)$ tales que $x,y,z<100$"
      ],
      "metadata": {
        "id": "SAWt55-wPxYt"
      }
    },
    {
      "cell_type": "code",
      "source": [
        "terna=[(a,b,c) for a in range(1,101) for b in range(a,101) for c in range(b,101) if a**2+b**2==c**2]\n",
        "ternapitagorica=[(a,b,c) for (a,b,c) in terna if a<b<c]\n",
        "ternapitagorica"
      ],
      "metadata": {
        "colab": {
          "base_uri": "https://localhost:8080/"
        },
        "id": "o6Vbf044ZFer",
        "outputId": "f836bf90-6146-44e9-9f6c-43dd45a8604f"
      },
      "execution_count": 8,
      "outputs": [
        {
          "output_type": "execute_result",
          "data": {
            "text/plain": [
              "[(3, 4, 5),\n",
              " (5, 12, 13),\n",
              " (6, 8, 10),\n",
              " (7, 24, 25),\n",
              " (8, 15, 17),\n",
              " (9, 12, 15),\n",
              " (9, 40, 41),\n",
              " (10, 24, 26),\n",
              " (11, 60, 61),\n",
              " (12, 16, 20),\n",
              " (12, 35, 37),\n",
              " (13, 84, 85),\n",
              " (14, 48, 50),\n",
              " (15, 20, 25),\n",
              " (15, 36, 39),\n",
              " (16, 30, 34),\n",
              " (16, 63, 65),\n",
              " (18, 24, 30),\n",
              " (18, 80, 82),\n",
              " (20, 21, 29),\n",
              " (20, 48, 52),\n",
              " (21, 28, 35),\n",
              " (21, 72, 75),\n",
              " (24, 32, 40),\n",
              " (24, 45, 51),\n",
              " (24, 70, 74),\n",
              " (25, 60, 65),\n",
              " (27, 36, 45),\n",
              " (28, 45, 53),\n",
              " (28, 96, 100),\n",
              " (30, 40, 50),\n",
              " (30, 72, 78),\n",
              " (32, 60, 68),\n",
              " (33, 44, 55),\n",
              " (33, 56, 65),\n",
              " (35, 84, 91),\n",
              " (36, 48, 60),\n",
              " (36, 77, 85),\n",
              " (39, 52, 65),\n",
              " (39, 80, 89),\n",
              " (40, 42, 58),\n",
              " (40, 75, 85),\n",
              " (42, 56, 70),\n",
              " (45, 60, 75),\n",
              " (48, 55, 73),\n",
              " (48, 64, 80),\n",
              " (51, 68, 85),\n",
              " (54, 72, 90),\n",
              " (57, 76, 95),\n",
              " (60, 63, 87),\n",
              " (60, 80, 100),\n",
              " (65, 72, 97)]"
            ]
          },
          "metadata": {},
          "execution_count": 8
        }
      ]
    }
  ]
}