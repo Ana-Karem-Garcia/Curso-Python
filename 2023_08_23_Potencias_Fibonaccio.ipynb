{
  "nbformat": 4,
  "nbformat_minor": 0,
  "metadata": {
    "colab": {
      "provenance": [],
      "authorship_tag": "ABX9TyO6HdSGDGR9ZtpJhjIED/JR",
      "include_colab_link": true
    },
    "kernelspec": {
      "name": "python3",
      "display_name": "Python 3"
    },
    "language_info": {
      "name": "python"
    }
  },
  "cells": [
    {
      "cell_type": "markdown",
      "metadata": {
        "id": "view-in-github",
        "colab_type": "text"
      },
      "source": [
        "<a href=\"https://colab.research.google.com/github/Ana-Karem-Garcia/Curso-Python/blob/main/2023_08_23_Potencias_Fibonaccio.ipynb\" target=\"_parent\"><img src=\"https://colab.research.google.com/assets/colab-badge.svg\" alt=\"Open In Colab\"/></a>"
      ]
    },
    {
      "cell_type": "markdown",
      "source": [
        "## Potencias de Fibonacci  \n",
        "\n",
        "###### 23/Agosto/2023"
      ],
      "metadata": {
        "id": "f0a_QO8-Gnin"
      }
    },
    {
      "cell_type": "markdown",
      "source": [
        "Vamos a examinar que numeros de Fibonacci menores que $10²⁰$ son cuadrados\n",
        "\n"
      ],
      "metadata": {
        "id": "ppVpLPRqG2Do"
      }
    },
    {
      "cell_type": "markdown",
      "source": [],
      "metadata": {
        "id": "XGdUUjGNMoF5"
      }
    },
    {
      "cell_type": "code",
      "execution_count": 1,
      "metadata": {
        "colab": {
          "base_uri": "https://localhost:8080/"
        },
        "outputId": "21ec20df-a5ce-4919-f80a-136b06e32fda",
        "id": "wat8JlgRa_a6"
      },
      "outputs": [
        {
          "name": "stdout",
          "output_type": "stream",
          "text": [
            "p=2\n"
          ]
        },
        {
          "output_type": "execute_result",
          "data": {
            "text/plain": [
              "[0, 1, 1, 144]"
            ]
          },
          "metadata": {},
          "execution_count": 1
        }
      ],
      "source": [
        "from sympy import sqrt\n",
        "\n",
        "p=0   # indicaremos a que potencia vamos a elevar\n",
        "def pot(p):\n",
        "    return eval(p)\n",
        "p=input(\"p=\")\n",
        "\n",
        "def es_potencia(n):\n",
        "    return int(sqrt(n)) ** pot(p)== n\n",
        "\n",
        "def potencia_fibonacci(n):\n",
        "    fibs = []\n",
        "    a, b = 0, 1\n",
        "    while a < n:\n",
        "        if es_potencia(a):\n",
        "            fibs.append(a)\n",
        "        a, b = b, a+b\n",
        "    return fibs\n",
        "\n",
        "potencia_fibonacci(10**20)"
      ]
    },
    {
      "cell_type": "markdown",
      "source": [
        "Vamos a examinar que numeros de Fibonacci menores que $10²⁰$ son cubos"
      ],
      "metadata": {
        "id": "PF3vTtpxHvuq"
      }
    },
    {
      "cell_type": "code",
      "execution_count": 2,
      "metadata": {
        "colab": {
          "base_uri": "https://localhost:8080/"
        },
        "outputId": "03f77a6e-b479-4ab1-94f0-677a70411035",
        "id": "5zlhjQgVIGLr"
      },
      "outputs": [
        {
          "name": "stdout",
          "output_type": "stream",
          "text": [
            "p=3\n"
          ]
        },
        {
          "output_type": "execute_result",
          "data": {
            "text/plain": [
              "[0, 1, 1, 8]"
            ]
          },
          "metadata": {},
          "execution_count": 2
        }
      ],
      "source": [
        "from sympy import sqrt\n",
        "\n",
        "p=0   # indicaremos a que potencia vamos a elevar\n",
        "def pot(p):\n",
        "    return eval(p)\n",
        "p=input(\"p=\")\n",
        "\n",
        "def es_potencia(n):\n",
        "    return int(sqrt(n)) ** pot(p)== n\n",
        "\n",
        "def potencia_fibonacci(n):\n",
        "    fibs = []\n",
        "    a, b = 0, 1\n",
        "    while a < n:\n",
        "        if es_potencia(a):\n",
        "            fibs.append(a)\n",
        "        a, b = b, a+b\n",
        "    return fibs\n",
        "\n",
        "potencia_fibonacci(10**20)"
      ]
    },
    {
      "cell_type": "markdown",
      "source": [
        "Vamos a examinar que numeros de Fibonacci menores que $10²⁰$ son cuarta potencia"
      ],
      "metadata": {
        "id": "osEb-ZVwIPNc"
      }
    },
    {
      "cell_type": "code",
      "execution_count": 3,
      "metadata": {
        "colab": {
          "base_uri": "https://localhost:8080/"
        },
        "outputId": "c15ee3cc-786f-4625-9bc8-611da3b4bbef",
        "id": "VYFslnKBIS1h"
      },
      "outputs": [
        {
          "name": "stdout",
          "output_type": "stream",
          "text": [
            "p=4\n"
          ]
        },
        {
          "output_type": "execute_result",
          "data": {
            "text/plain": [
              "[0, 1, 1]"
            ]
          },
          "metadata": {},
          "execution_count": 3
        }
      ],
      "source": [
        "from sympy import sqrt\n",
        "\n",
        "p=0   # indicaremos a que potencia vamos a elevar\n",
        "def pot(p):\n",
        "    return eval(p)\n",
        "p=input(\"p=\")\n",
        "\n",
        "def es_potencia(n):\n",
        "    return int(sqrt(n)) ** pot(p)== n\n",
        "\n",
        "def potencia_fibonacci(n):\n",
        "    fibs = []\n",
        "    a, b = 0, 1\n",
        "    while a < n:\n",
        "        if es_potencia(a):\n",
        "            fibs.append(a)\n",
        "        a, b = b, a+b\n",
        "    return fibs\n",
        "\n",
        "potencia_fibonacci(10**20)"
      ]
    }
  ]
}