{
  "cells": [
    {
      "cell_type": "markdown",
      "metadata": {
        "id": "view-in-github",
        "colab_type": "text"
      },
      "source": [
        "<a href=\"https://colab.research.google.com/github/Ana-Karem-Garcia/Curso-Python/blob/main/2022_02_23_clases_(1).ipynb\" target=\"_parent\"><img src=\"https://colab.research.google.com/assets/colab-badge.svg\" alt=\"Open In Colab\"/></a>"
      ]
    },
    {
      "cell_type": "markdown",
      "metadata": {
        "id": "Mb1Aar8nSfuc"
      },
      "source": [
        "Clases\n",
        "======\n",
        "\n",
        "**Date:** 2022-02-23\n",
        "\n"
      ]
    },
    {
      "cell_type": "markdown",
      "metadata": {
        "id": "hy_kYVMaSfuj"
      },
      "source": [
        "## Clases\n",
        "\n"
      ]
    },
    {
      "cell_type": "markdown",
      "metadata": {
        "id": "RMNu_wb8Sfuj"
      },
      "source": [
        "### Introducción\n",
        "\n"
      ]
    },
    {
      "cell_type": "markdown",
      "metadata": {
        "id": "GlNqlAAcSfuk"
      },
      "source": [
        "Ver [https://towardsdatascience.com/explaining-python-classes-in-a-simple-way-e3742827c8b5](https://towardsdatascience.com/explaining-python-classes-in-a-simple-way-e3742827c8b5)\n",
        "\n",
        "En Python se trabaja todo el tiempo con **objetos**. Cada objeto, a su vez, es una instancia de una **clase**. Por ejemplo:\n",
        "\n"
      ]
    },
    {
      "cell_type": "code",
      "execution_count": null,
      "metadata": {
        "id": "FCvmcTBwSful",
        "outputId": "dec9d4c7-98f4-4785-c525-c503d9308cbe"
      },
      "outputs": [
        {
          "name": "stdout",
          "output_type": "stream",
          "text": [
            "<class 'int'>\n"
          ]
        }
      ],
      "source": [
        "a = 28\n",
        "print(type(a))"
      ]
    },
    {
      "cell_type": "code",
      "execution_count": null,
      "metadata": {
        "id": "rmszdHegSfuo",
        "outputId": "07237f49-c2f2-429b-ffc1-71fe189ff705"
      },
      "outputs": [
        {
          "name": "stdout",
          "output_type": "stream",
          "text": [
            "<class 'list'>\n"
          ]
        }
      ],
      "source": [
        "b = [1, 2]\n",
        "print(type(b))"
      ]
    },
    {
      "cell_type": "code",
      "execution_count": null,
      "metadata": {
        "id": "dBj0rfR2Sfup",
        "outputId": "36d2980e-18c8-44db-818f-ba78a6dc845c"
      },
      "outputs": [
        {
          "name": "stdout",
          "output_type": "stream",
          "text": [
            "<class 'dict'>\n"
          ]
        }
      ],
      "source": [
        "c = {\"a\":1, \"b\":2, \"c\":34}\n",
        "print(type(c))"
      ]
    },
    {
      "cell_type": "markdown",
      "metadata": {
        "id": "jBP6APCbSfuq"
      },
      "source": [
        "Cada clase tiene asociadas algunas funciones que tienen sentido en las instancias de esa clase, esas funciones se llaman **métodos**. Para ver los métodos que se pueden asociar a un objeto, se puede usar la función `dir`.\n",
        "\n"
      ]
    },
    {
      "cell_type": "code",
      "execution_count": null,
      "metadata": {
        "id": "LdH3-yvzSfur",
        "outputId": "7f55ef0e-f17c-4120-b992-427d1152f938"
      },
      "outputs": [
        {
          "data": {
            "text/plain": [
              "['__add__',\n",
              " '__class__',\n",
              " '__class_getitem__',\n",
              " '__contains__',\n",
              " '__delattr__',\n",
              " '__delitem__',\n",
              " '__dir__',\n",
              " '__doc__',\n",
              " '__eq__',\n",
              " '__format__',\n",
              " '__ge__',\n",
              " '__getattribute__',\n",
              " '__getitem__',\n",
              " '__gt__',\n",
              " '__hash__',\n",
              " '__iadd__',\n",
              " '__imul__',\n",
              " '__init__',\n",
              " '__init_subclass__',\n",
              " '__iter__',\n",
              " '__le__',\n",
              " '__len__',\n",
              " '__lt__',\n",
              " '__mul__',\n",
              " '__ne__',\n",
              " '__new__',\n",
              " '__reduce__',\n",
              " '__reduce_ex__',\n",
              " '__repr__',\n",
              " '__reversed__',\n",
              " '__rmul__',\n",
              " '__setattr__',\n",
              " '__setitem__',\n",
              " '__sizeof__',\n",
              " '__str__',\n",
              " '__subclasshook__',\n",
              " 'append',\n",
              " 'clear',\n",
              " 'copy',\n",
              " 'count',\n",
              " 'extend',\n",
              " 'index',\n",
              " 'insert',\n",
              " 'pop',\n",
              " 'remove',\n",
              " 'reverse',\n",
              " 'sort']"
            ]
          },
          "execution_count": 6,
          "metadata": {},
          "output_type": "execute_result"
        }
      ],
      "source": [
        "dir(b)"
      ]
    },
    {
      "cell_type": "markdown",
      "metadata": {
        "id": "w_9X2oeuSfus"
      },
      "source": [
        "Los métodos que usan dos guiones bajos (como `__mul__`) son especiales. Para encontrar información sobre un método, podemos usar la función `help`, o bien usar un signo ? en jupyter: `b.append?`.\n",
        "\n"
      ]
    },
    {
      "cell_type": "code",
      "execution_count": null,
      "metadata": {
        "id": "ySqUH_Y8Sfus"
      },
      "outputs": [],
      "source": [
        "b.append?"
      ]
    },
    {
      "cell_type": "markdown",
      "metadata": {
        "id": "TRS3L0XcSfut"
      },
      "source": [
        "Como podemos ver, los métodos asociados a un diccionario, por ejemplo, son diferentes a los de una lista:\n",
        "\n"
      ]
    },
    {
      "cell_type": "code",
      "execution_count": null,
      "metadata": {
        "id": "T3SNa1-jSfut",
        "outputId": "3cbde3ea-a3e5-4476-c1bd-9442393f84f3"
      },
      "outputs": [
        {
          "data": {
            "text/plain": [
              "['__class__',\n",
              " '__class_getitem__',\n",
              " '__contains__',\n",
              " '__delattr__',\n",
              " '__delitem__',\n",
              " '__dir__',\n",
              " '__doc__',\n",
              " '__eq__',\n",
              " '__format__',\n",
              " '__ge__',\n",
              " '__getattribute__',\n",
              " '__getitem__',\n",
              " '__gt__',\n",
              " '__hash__',\n",
              " '__init__',\n",
              " '__init_subclass__',\n",
              " '__ior__',\n",
              " '__iter__',\n",
              " '__le__',\n",
              " '__len__',\n",
              " '__lt__',\n",
              " '__ne__',\n",
              " '__new__',\n",
              " '__or__',\n",
              " '__reduce__',\n",
              " '__reduce_ex__',\n",
              " '__repr__',\n",
              " '__reversed__',\n",
              " '__ror__',\n",
              " '__setattr__',\n",
              " '__setitem__',\n",
              " '__sizeof__',\n",
              " '__str__',\n",
              " '__subclasshook__',\n",
              " 'clear',\n",
              " 'copy',\n",
              " 'fromkeys',\n",
              " 'get',\n",
              " 'items',\n",
              " 'keys',\n",
              " 'pop',\n",
              " 'popitem',\n",
              " 'setdefault',\n",
              " 'update',\n",
              " 'values']"
            ]
          },
          "execution_count": 10,
          "metadata": {},
          "output_type": "execute_result"
        }
      ],
      "source": [
        "dir(c)"
      ]
    },
    {
      "cell_type": "markdown",
      "metadata": {
        "id": "6rPRi0kgSfuu"
      },
      "source": [
        "### Crear nuestras propias clases\n",
        "\n"
      ]
    },
    {
      "cell_type": "markdown",
      "metadata": {
        "id": "ZHJMVjt6Sfuu"
      },
      "source": [
        "Las clases se crean con la palabra reservada `class`. Por convención, las nombres de las clases que hagamos deben empezar con letras mayúsculas.\n",
        "\n"
      ]
    },
    {
      "cell_type": "code",
      "execution_count": null,
      "metadata": {
        "id": "Ehz5LyaFSfuv",
        "outputId": "048edb68-3142-4217-ccd4-99862eda7098"
      },
      "outputs": [
        {
          "name": "stdout",
          "output_type": "stream",
          "text": [
            "<class '__main__.Persona'>\n"
          ]
        }
      ],
      "source": [
        "class Persona:\n",
        "    pass\n",
        "\n",
        "a = Persona()\n",
        "print(type(a))"
      ]
    },
    {
      "cell_type": "markdown",
      "metadata": {
        "id": "h-_YrWRESfuv"
      },
      "source": [
        "Además de funciones (métodos), los objetos pueden tener constantes asociadas a ellos (atributos).\n",
        "\n"
      ]
    },
    {
      "cell_type": "code",
      "execution_count": null,
      "metadata": {
        "id": "_sZwJcm9Sfuw",
        "outputId": "517c0f6d-6f84-45cb-c079-aadb5bd21277"
      },
      "outputs": [
        {
          "data": {
            "text/plain": [
              "('Rafael', 'Pachuca')"
            ]
          },
          "execution_count": 14,
          "metadata": {},
          "output_type": "execute_result"
        }
      ],
      "source": [
        "a.nombre = \"Rafael\"\n",
        "a.ciudad = \"Pachuca\"\n",
        "a.nombre, a.ciudad"
      ]
    },
    {
      "cell_type": "code",
      "execution_count": null,
      "metadata": {
        "id": "TSXF5ytqSfuw",
        "outputId": "1438bb80-4f25-4fa0-c08e-d94b4bc2b654"
      },
      "outputs": [
        {
          "data": {
            "text/plain": [
              "('Lionel',\n",
              " 'Messi',\n",
              " 'Miami',\n",
              " <__main__.Persona at 0x7fc3f87b5df0>,\n",
              " __main__.Persona)"
            ]
          },
          "execution_count": 15,
          "metadata": {},
          "output_type": "execute_result"
        }
      ],
      "source": [
        "b = Persona()\n",
        "b.nombre = \"Lionel\"\n",
        "b.apellido = \"Messi\"\n",
        "b.ciudad = \"Miami\"\n",
        "b.nombre, b.apellido, b.ciudad, b, type(b)"
      ]
    },
    {
      "cell_type": "markdown",
      "metadata": {
        "id": "G1SeXi1aSfux"
      },
      "source": [
        "Hay muchos objetos matemáticos que podemos pensar de esta manera.\n",
        "\n"
      ]
    },
    {
      "cell_type": "code",
      "execution_count": null,
      "metadata": {
        "id": "cFXh9fzGSfux",
        "outputId": "31db3af9-371f-43df-8277-fc3914e5a1dc"
      },
      "outputs": [
        {
          "data": {
            "text/plain": [
              "(3, -2, <__main__.Complejo at 0x7fc3fa0470a0>)"
            ]
          },
          "execution_count": 16,
          "metadata": {},
          "output_type": "execute_result"
        }
      ],
      "source": [
        "class Complejo:\n",
        "    pass\n",
        "\n",
        "z = Complejo()\n",
        "z.parte_real = 3\n",
        "z.parte_imaginaria = -2\n",
        "z.parte_real, z.parte_imaginaria, z"
      ]
    },
    {
      "cell_type": "code",
      "execution_count": null,
      "metadata": {
        "id": "aWeJ1bIMSfuy",
        "outputId": "1e72d04d-f667-41bb-e43c-eebf1fbefa0a"
      },
      "outputs": [
        {
          "data": {
            "text/plain": [
              "({'linterna': 10,\n",
              "  'libro': 2,\n",
              "  'baterías': 4,\n",
              "  'lata': 7,\n",
              "  'bolsa de dormir': 20,\n",
              "  'mapa': 6,\n",
              "  'celular': 7,\n",
              "  'encendedor': 8,\n",
              "  'asador': 6,\n",
              "  'computadora': 7},\n",
              " {'linterna': 3,\n",
              "  'libro': 5,\n",
              "  'baterías': 1,\n",
              "  'lata': 3,\n",
              "  'bolsa de dormir': 8,\n",
              "  'mapa': 1,\n",
              "  'celular': 2,\n",
              "  'encendedor': 1,\n",
              "  'asador': 10,\n",
              "  'computadora': 1},\n",
              " 15)"
            ]
          },
          "execution_count": 17,
          "metadata": {},
          "output_type": "execute_result"
        }
      ],
      "source": [
        "class ProblemaMochila:\n",
        "    pass\n",
        "\n",
        "pm = ProblemaMochila()\n",
        "pm.utilidades = {\"linterna\":10, \"libro\":2, \"baterías\":4, \"lata\":7, \"bolsa de dormir\": 20, \"mapa\":6, \"celular\":7, \"encendedor\": 8, \"asador\":6, \"computadora\":7}\n",
        "pm.pesos = {\"linterna\":3, \"libro\":5, \"baterías\":1, \"lata\":3, \"bolsa de dormir\": 8, \"mapa\":1, \"celular\": 2, \"encendedor\":1, \"asador\":10, \"computadora\":1}\n",
        "pm.límite = 15\n",
        "pm.utilidades, pm.pesos, pm.límite"
      ]
    },
    {
      "cell_type": "markdown",
      "metadata": {
        "id": "_fCKB6ZeSfuy"
      },
      "source": [
        "### Función inicializadora\n",
        "\n"
      ]
    },
    {
      "cell_type": "markdown",
      "metadata": {
        "id": "l5Abhz6ySfuz"
      },
      "source": [
        "El método `__init__` se puede usar para crear y dar valor a algunos atributos al tiempo de crear la instancia de la clase. La instancia misma es siempre un argumento de la función inicializadora, y por convención, nos referimos a ella con `self`. Sin embargo, al crear la instancia de la clase, sólo usamos los otros argumentos.\n",
        "\n"
      ]
    },
    {
      "cell_type": "code",
      "execution_count": null,
      "metadata": {
        "id": "KpdQitzGSfuz",
        "outputId": "0ba5a90d-8769-4e02-d0af-c8401673cb04"
      },
      "outputs": [
        {
          "data": {
            "text/plain": [
              "('Lionel', 'Messi', 'Miami')"
            ]
          },
          "execution_count": 21,
          "metadata": {},
          "output_type": "execute_result"
        }
      ],
      "source": [
        "class Persona:\n",
        "    def __init__(self, nombre, ciudad, apelativo):\n",
        "        self.nombre = nombre\n",
        "        self.ciudad = ciudad\n",
        "        self.apellido = apelativo\n",
        "\n",
        "b = Persona(\"Lionel\", \"Messi\", \"Miami\")\n",
        "b.nombre, b.ciudad, b.apellido"
      ]
    },
    {
      "cell_type": "code",
      "execution_count": null,
      "metadata": {
        "id": "Sacu9wnjSfu0",
        "outputId": "12b1622f-89b4-48bd-b7e8-b82a347337d3"
      },
      "outputs": [
        {
          "data": {
            "text/plain": [
              "(2, -3, <__main__.NúmeroComplejo at 0x7fc3f87b5280>, __main__.NúmeroComplejo)"
            ]
          },
          "execution_count": 22,
          "metadata": {},
          "output_type": "execute_result"
        }
      ],
      "source": [
        "class NúmeroComplejo:\n",
        "    def __init__(self, parte_real, parte_imaginaria):\n",
        "        self.r = parte_real\n",
        "        self.i = parte_imaginaria\n",
        "\n",
        "z = NúmeroComplejo(2, -3)\n",
        "z.r, z.i, z, type(z)"
      ]
    },
    {
      "cell_type": "code",
      "execution_count": null,
      "metadata": {
        "id": "9WXLeLCESfu0"
      },
      "outputs": [],
      "source": [
        "class ProblemaMochila:\n",
        "    def __init__(self, utilidades, pesos, límite):\n",
        "        self.utilidades = utilidades\n",
        "        self.pesos = pesos\n",
        "        self.límite = límite"
      ]
    },
    {
      "cell_type": "code",
      "execution_count": null,
      "metadata": {
        "id": "ZfIJgWM5Sfu1",
        "outputId": "2654040a-dee5-49e3-f558-7f62a7ded525"
      },
      "outputs": [
        {
          "data": {
            "text/plain": [
              "({'linterna': 10,\n",
              "  'libro': 2,\n",
              "  'baterías': 4,\n",
              "  'lata': 7,\n",
              "  'bolsa de dormir': 20,\n",
              "  'mapa': 6,\n",
              "  'celular': 7,\n",
              "  'encendedor': 8,\n",
              "  'asador': 6,\n",
              "  'computadora': 7},\n",
              " {'linterna': 3,\n",
              "  'libro': 5,\n",
              "  'baterías': 1,\n",
              "  'lata': 3,\n",
              "  'bolsa de dormir': 8,\n",
              "  'mapa': 1,\n",
              "  'celular': 2,\n",
              "  'encendedor': 1,\n",
              "  'asador': 10,\n",
              "  'computadora': 1},\n",
              " 15)"
            ]
          },
          "execution_count": 25,
          "metadata": {},
          "output_type": "execute_result"
        }
      ],
      "source": [
        "utilidad = {\"linterna\":10, \"libro\":2, \"baterías\":4, \"lata\":7, \"bolsa de dormir\": 20, \"mapa\":6, \"celular\":7, \"encendedor\": 8, \"asador\":6, \"computadora\":7}\n",
        "peso = {\"linterna\":3, \"libro\":5, \"baterías\":1, \"lata\":3, \"bolsa de dormir\": 8, \"mapa\":1, \"celular\": 2, \"encendedor\":1, \"asador\":10, \"computadora\":1}\n",
        "lím = 15\n",
        "\n",
        "pm = ProblemaMochila(utilidad, peso, lím)\n",
        "pm.utilidades, pm.pesos, pm.límite"
      ]
    },
    {
      "cell_type": "markdown",
      "metadata": {
        "id": "UnhvfykSSfu1"
      },
      "source": [
        "### Otros métodos\n",
        "\n"
      ]
    },
    {
      "cell_type": "markdown",
      "metadata": {
        "id": "R8Saf33PSfu1"
      },
      "source": [
        "Además del método inicializador, se pueden definir otros métodos, que son propios de cada clase:\n",
        "\n"
      ]
    },
    {
      "cell_type": "code",
      "execution_count": null,
      "metadata": {
        "id": "tdepjG2XSfu2",
        "outputId": "eebca7f3-b37f-481e-ffd1-3d0f3dd2a430"
      },
      "outputs": [
        {
          "data": {
            "text/plain": [
              "'Hola Lionel. ¿Cómo está todo en Miami?'"
            ]
          },
          "execution_count": 26,
          "metadata": {},
          "output_type": "execute_result"
        }
      ],
      "source": [
        "class Persona:\n",
        "    def __init__(self, nombre, ciudad):\n",
        "        self.nombre = nombre\n",
        "        self.ciudad = ciudad\n",
        "\n",
        "    def saludo(self):\n",
        "        return f\"Hola {self.nombre}. ¿Cómo está todo en {self.ciudad}?\"\n",
        "\n",
        "b = Persona(\"Lionel\", \"Miami\")\n",
        "b.saludo()"
      ]
    },
    {
      "cell_type": "code",
      "execution_count": null,
      "metadata": {
        "id": "QQ-oi5_3Sfu2",
        "outputId": "49183e57-f368-4e79-c3df-efe53e82c569"
      },
      "outputs": [
        {
          "data": {
            "text/plain": [
              "'Hola Leonel. ¿Cómo está todo en París?'"
            ]
          },
          "execution_count": 27,
          "metadata": {},
          "output_type": "execute_result"
        }
      ],
      "source": [
        "c = Persona(\"Leonel\", \"París\")\n",
        "\n",
        "c.saludo()"
      ]
    },
    {
      "cell_type": "code",
      "execution_count": null,
      "metadata": {
        "id": "tWQPDphaSfu2",
        "outputId": "93c98e91-395a-45ec-c983-d77ac60cd801"
      },
      "outputs": [
        {
          "data": {
            "text/plain": [
              "['__class__',\n",
              " '__delattr__',\n",
              " '__dict__',\n",
              " '__dir__',\n",
              " '__doc__',\n",
              " '__eq__',\n",
              " '__format__',\n",
              " '__ge__',\n",
              " '__getattribute__',\n",
              " '__gt__',\n",
              " '__hash__',\n",
              " '__init__',\n",
              " '__init_subclass__',\n",
              " '__le__',\n",
              " '__lt__',\n",
              " '__module__',\n",
              " '__ne__',\n",
              " '__new__',\n",
              " '__reduce__',\n",
              " '__reduce_ex__',\n",
              " '__repr__',\n",
              " '__setattr__',\n",
              " '__sizeof__',\n",
              " '__str__',\n",
              " '__subclasshook__',\n",
              " '__weakref__',\n",
              " 'ciudad',\n",
              " 'nombre',\n",
              " 'saludo']"
            ]
          },
          "execution_count": 28,
          "metadata": {},
          "output_type": "execute_result"
        }
      ],
      "source": [
        "dir(c)"
      ]
    },
    {
      "cell_type": "markdown",
      "metadata": {
        "id": "YmAEJyyvSfu3"
      },
      "source": [
        "Como cualquier función, los métodos pueden tener argumentos opcionales. Las clases y métodos pueden tener documentación.\n",
        "\n"
      ]
    },
    {
      "cell_type": "code",
      "execution_count": null,
      "metadata": {
        "id": "dkv1erFkSfu3"
      },
      "outputs": [],
      "source": [
        "class Persona:\n",
        "    \"\"\"Clase para agrupar los datos de una persona.\"\"\"\n",
        "    def __init__(self, nombre, ciudad):\n",
        "        self.nombre = nombre\n",
        "        self.ciudad = ciudad\n",
        "\n",
        "    def saludo(self, vocativo=\"Hola\"):\n",
        "        \"\"\"Regresa un saludo personalizado con los datos de una Persona.\"\"\"\n",
        "        return f\"{vocativo} {self.nombre}. ¿Cómo va todo en {self.ciudad}?\"\n",
        "\n",
        "b = Persona(\"Rafael\", \"Ciudad de México\")\n",
        "c = Persona(\"Lionel\", \"Miami\")"
      ]
    },
    {
      "cell_type": "code",
      "execution_count": null,
      "metadata": {
        "id": "6wL-uE4bSfu3",
        "outputId": "72d52763-013f-4242-bfd5-9145dfa837f7"
      },
      "outputs": [
        {
          "data": {
            "text/plain": [
              "'Hola Rafael. ¿Cómo va todo en Ciudad de México?'"
            ]
          },
          "execution_count": 33,
          "metadata": {},
          "output_type": "execute_result"
        }
      ],
      "source": [
        "b.saludo()"
      ]
    },
    {
      "cell_type": "code",
      "execution_count": null,
      "metadata": {
        "id": "ZbrTMauTSfu4",
        "outputId": "e92a4bbf-95fe-46eb-8978-abf70d73ed2b"
      },
      "outputs": [
        {
          "data": {
            "text/plain": [
              "'Qué tal Lionel. ¿Cómo va todo en Miami?'"
            ]
          },
          "execution_count": 34,
          "metadata": {},
          "output_type": "execute_result"
        }
      ],
      "source": [
        "c.saludo(\"Qué tal\")"
      ]
    },
    {
      "cell_type": "code",
      "execution_count": null,
      "metadata": {
        "id": "DwWoqoaLSfu4"
      },
      "outputs": [],
      "source": [
        "help(Persona)"
      ]
    },
    {
      "cell_type": "code",
      "execution_count": null,
      "metadata": {
        "id": "mz4sfTSGSfu4"
      },
      "outputs": [],
      "source": [
        "help(Persona.saludo)"
      ]
    },
    {
      "cell_type": "markdown",
      "metadata": {
        "id": "xTCi37zpSfvF"
      },
      "source": [
        "Como las instancias de las clases que hemos creado también son objetos, se pueden definir funciones externas que las usen como argumento:\n",
        "\n"
      ]
    },
    {
      "cell_type": "code",
      "execution_count": null,
      "metadata": {
        "id": "mYTKhay1SfvG",
        "outputId": "4f5c4543-bd8d-4fb4-aae5-7f961cf7bd12"
      },
      "outputs": [
        {
          "data": {
            "text/plain": [
              "'Oye Lionel. ¿Ya te vacunaste en Miami?.'"
            ]
          },
          "execution_count": 35,
          "metadata": {},
          "output_type": "execute_result"
        }
      ],
      "source": [
        "def vacuna(persona):\n",
        "    return f\"Oye {persona.nombre}. ¿Ya te vacunaste en {persona.ciudad}?.\"\n",
        "\n",
        "vacuna(c)"
      ]
    },
    {
      "cell_type": "markdown",
      "metadata": {
        "id": "GQ3e-Y3YSfvG"
      },
      "source": [
        "## Una clase matemática\n",
        "\n"
      ]
    },
    {
      "cell_type": "code",
      "execution_count": 8,
      "metadata": {
        "colab": {
          "base_uri": "https://localhost:8080/"
        },
        "id": "C_iVb3y6SfvG",
        "outputId": "404d88d0-2866-4db7-9df0-7d1bbc27985c"
      },
      "outputs": [
        {
          "output_type": "execute_result",
          "data": {
            "text/plain": [
              "(3, -1, <__main__.NúmeroComplejo at 0x7d2a18ca7610>, 3.1622776601683795)"
            ]
          },
          "metadata": {},
          "execution_count": 8
        }
      ],
      "source": [
        "from math import sqrt\n",
        "\n",
        "class NúmeroComplejo:\n",
        "    def __init__(self, parte_real, parte_imaginaria):\n",
        "        self.r = parte_real\n",
        "        self.i = parte_imaginaria\n",
        "\n",
        "    def módulo(self):\n",
        "        return sqrt(self.r**2 + self.i**2)\n",
        "\n",
        "z = NúmeroComplejo(3, -1)\n",
        "z.r, z.i, z, z.módulo()"
      ]
    },
    {
      "cell_type": "markdown",
      "metadata": {
        "id": "8Ufx2714SfvH"
      },
      "source": [
        "Podemos regresar una representación legible del objeto de una clase, definiendo el método `__repr__` de una clase. Por convención, se debe regresar una cadena a partir de la cual Python pueda reconstruir el objeto.\n",
        "\n"
      ]
    },
    {
      "cell_type": "code",
      "execution_count": 9,
      "metadata": {
        "colab": {
          "base_uri": "https://localhost:8080/"
        },
        "id": "W5JEDrxBSfvH",
        "outputId": "d299213a-b5b6-491f-f690-7325cd2b8346"
      },
      "outputs": [
        {
          "output_type": "execute_result",
          "data": {
            "text/plain": [
              "(3, -4, NúmeroComplejo(3, -4), 5.0)"
            ]
          },
          "metadata": {},
          "execution_count": 9
        }
      ],
      "source": [
        "class NúmeroComplejo:\n",
        "    def __init__(self, parte_real, parte_imaginaria):\n",
        "        self.r = parte_real\n",
        "        self.i = parte_imaginaria\n",
        "\n",
        "    def __repr__(self):\n",
        "        return f\"NúmeroComplejo({self.r}, {self.i})\"\n",
        "\n",
        "    def módulo(self):\n",
        "        return sqrt(self.r**2+self.i**2)\n",
        "\n",
        "z = NúmeroComplejo(3, -4)\n",
        "z.r, z.i, z, z.módulo()"
      ]
    },
    {
      "cell_type": "code",
      "execution_count": 6,
      "metadata": {
        "colab": {
          "base_uri": "https://localhost:8080/"
        },
        "id": "BqUWcWsQSfvH",
        "outputId": "a0a0c401-e7bf-4620-e695-73ba873d5b6a"
      },
      "outputs": [
        {
          "output_type": "execute_result",
          "data": {
            "text/plain": [
              "NúmeroComplejo(-2, 5)"
            ]
          },
          "metadata": {},
          "execution_count": 6
        }
      ],
      "source": [
        "w = NúmeroComplejo(-2, 5)\n",
        "w"
      ]
    },
    {
      "cell_type": "markdown",
      "metadata": {
        "id": "lpx1Dx1rSfvI"
      },
      "source": [
        "Podríamos definir una función que sume dos números complejos:\n",
        "\n"
      ]
    },
    {
      "cell_type": "code",
      "execution_count": 7,
      "metadata": {
        "colab": {
          "base_uri": "https://localhost:8080/"
        },
        "id": "S1BWP1C7SfvI",
        "outputId": "5ab997bb-b00c-4d4c-ccaf-7d446aefe361"
      },
      "outputs": [
        {
          "output_type": "execute_result",
          "data": {
            "text/plain": [
              "NúmeroComplejo(6, 0)"
            ]
          },
          "metadata": {},
          "execution_count": 7
        }
      ],
      "source": [
        "def suma_complejos(z1, z2):\n",
        "    return NúmeroComplejo(z1.r + z2.r, z1.i + z2.i)\n",
        "\n",
        "z = NúmeroComplejo(3, -4)\n",
        "w = NúmeroComplejo(3, 4)\n",
        "\n",
        "suma_complejos(z, w)"
      ]
    },
    {
      "cell_type": "markdown",
      "metadata": {
        "id": "nyVHgo8NSfvI"
      },
      "source": [
        "Pero quisiéramos que fuera posible definir la suma directamente usando el operador `+`. Eso no es posible en este momento:\n",
        "\n"
      ]
    },
    {
      "cell_type": "code",
      "execution_count": null,
      "metadata": {
        "id": "cfR99B7dSfvI"
      },
      "outputs": [],
      "source": [
        "z, w, z+w"
      ]
    },
    {
      "cell_type": "markdown",
      "metadata": {
        "id": "Qxz4Ij8ZSfvJ"
      },
      "source": [
        "Para definir la suma directamente, se define el método `__add__`, cuyos argumentos son `self` y `other`:\n",
        "\n"
      ]
    },
    {
      "cell_type": "code",
      "execution_count": 11,
      "metadata": {
        "colab": {
          "base_uri": "https://localhost:8080/"
        },
        "id": "8hU8iJBaSfvJ",
        "outputId": "eb9652a8-de3b-476e-c7cf-12228c48c86d"
      },
      "outputs": [
        {
          "output_type": "execute_result",
          "data": {
            "text/plain": [
              "(2, -1, Complejo(2, -1), sqrt(5))"
            ]
          },
          "metadata": {},
          "execution_count": 11
        }
      ],
      "source": [
        "from sympy import sqrt\n",
        "\n",
        "class Complejo:\n",
        "    def __init__(self, parte_real, parte_imaginaria):\n",
        "        self.r = parte_real\n",
        "        self.i = parte_imaginaria\n",
        "\n",
        "    def __repr__(self):\n",
        "        return f\"Complejo({self.r}, {self.i})\"\n",
        "\n",
        "    def __add__(self, other):\n",
        "        return Complejo(self.r + other.r, self.i + other.i)\n",
        "\n",
        "    def módulo(self):\n",
        "        return sqrt(self.r**2+self.i**2)\n",
        "\n",
        "z = Complejo(2, -1)\n",
        "z.r, z.i, z, z.módulo()"
      ]
    },
    {
      "cell_type": "code",
      "execution_count": 12,
      "metadata": {
        "colab": {
          "base_uri": "https://localhost:8080/"
        },
        "id": "JPO0gRruSfvJ",
        "outputId": "6cbdc501-9b70-42d8-82e6-4a39184e1194"
      },
      "outputs": [
        {
          "output_type": "execute_result",
          "data": {
            "text/plain": [
              "(Complejo(2, -5), Complejo(3, 4), Complejo(5, -1))"
            ]
          },
          "metadata": {},
          "execution_count": 12
        }
      ],
      "source": [
        "z = Complejo(2, -5)\n",
        "w = Complejo(3, 4)\n",
        "z, w, z+w"
      ]
    },
    {
      "cell_type": "code",
      "execution_count": null,
      "metadata": {
        "id": "lhuelurgSfvK"
      },
      "outputs": [],
      "source": [
        "Complejo(-19, 4) + Complejo(3, 2)"
      ]
    },
    {
      "cell_type": "markdown",
      "metadata": {
        "id": "Hc7lJbOaSfvK"
      },
      "source": [
        "TAREA:\n",
        "\n",
        "-   Definir la resta (`__sub__`) y la multiplicación (`__mul__`) de dos números, usando los operadores `-` y `*`.\n",
        "-   En la clase `ProgramaMochila`, definir un método `solución`.\n",
        "\n",
        "-   Definir métodos que se llamen `conjugado`, `inverso`. Definir división de complejos (`__div__`).\n",
        "\n"
      ]
    },
    {
      "cell_type": "markdown",
      "metadata": {
        "id": "KJl2bf1ZSfvL"
      },
      "source": [
        "## Herencia\n",
        "\n"
      ]
    },
    {
      "cell_type": "markdown",
      "metadata": {
        "id": "DnrJHZKVSfvL"
      },
      "source": [
        "Se pueden generar nuevas clases a partir de otras. Por ejemplo, definamos una clase `Estudiante` a partir de la clase `Persona`.\n",
        "\n"
      ]
    },
    {
      "cell_type": "code",
      "execution_count": null,
      "metadata": {
        "id": "uy92gVGjSfvM"
      },
      "outputs": [],
      "source": [
        "class Persona:\n",
        "    \"\"\"Clase para agrupar los datos de una persona.\"\"\"\n",
        "    def __init__(self, nombre, ciudad):\n",
        "        self.nombre = nombre\n",
        "        self.ciudad = ciudad\n",
        "\n",
        "    def __repr__(self):\n",
        "        return f\"Persona('{self.nombre}', '{self.ciudad}')\"\n",
        "\n",
        "    def saludo(self, vocativo=\"Hola\"):\n",
        "        \"\"\"Regresa un saludo personalizado con los datos de una Persona.\"\"\"\n",
        "        return f\"{vocativo} {self.nombre}. ¿Cómo va todo en {self.ciudad}?\"\n",
        "\n",
        "\n",
        "b = Persona(\"Rafael\", \"Pachuca\")\n",
        "c = Persona(\"Lionel\", \"París\")\n",
        "c, b"
      ]
    },
    {
      "cell_type": "code",
      "execution_count": null,
      "metadata": {
        "id": "n-_IjSKASfvM"
      },
      "outputs": [],
      "source": [
        "class Estudiante(Persona):\n",
        "    pass\n",
        "\n",
        "d = Estudiante(\"Karen\", \"Tulancingo\")\n",
        "d, d.saludo()"
      ]
    },
    {
      "cell_type": "code",
      "execution_count": null,
      "metadata": {
        "id": "zpQ5A3QbSfvM"
      },
      "outputs": [],
      "source": [
        "class Estudiante(Persona):\n",
        "    def __repr__(self):\n",
        "        return f\"Estudiante('{self.nombre}', '{self.ciudad}')\"\n",
        "\n",
        "d = Estudiante(\"Karen\", \"Tulancingo\")\n",
        "d, d.saludo()"
      ]
    },
    {
      "cell_type": "markdown",
      "metadata": {
        "id": "5D2R1ScVSfvN"
      },
      "source": [
        "Podemos reescribir métodos (encimando su definición sobre la clase padre) y añadir otros.\n",
        "\n"
      ]
    },
    {
      "cell_type": "code",
      "execution_count": null,
      "metadata": {
        "id": "DfMt4pxLSfvN"
      },
      "outputs": [],
      "source": [
        "class Estudiante(Persona):\n",
        "    def __repr__(self):\n",
        "        return f\"Estudiante('{self.nombre}', '{self.ciudad}')\"\n",
        "\n",
        "    def escuela(self):\n",
        "        return f\"¿Cuál es tu escuela {self.nombre}?\"\n",
        "\n",
        "d = Estudiante(\"Karen\", \"Tulancingo\")\n",
        "d, d.saludo(), d.escuela()"
      ]
    },
    {
      "cell_type": "markdown",
      "metadata": {
        "id": "XPCuT_HqSfvN"
      },
      "source": [
        "Sin embargo, si queremos definir la clase `Estudiante` con un atributo extra por medio de una nueva función `__init__`, vamos a encimar la definición de la clase padre.\n",
        "\n"
      ]
    },
    {
      "cell_type": "code",
      "execution_count": null,
      "metadata": {
        "id": "EN5Ga_KgSfvN"
      },
      "outputs": [],
      "source": [
        "class Estudiante(Persona):\n",
        "    def __init__(self, nombre, ciudad, cuenta):\n",
        "       self.nombre = nombre\n",
        "       self.ciudad = ciudad\n",
        "       self.cuenta = cuenta\n",
        "\n",
        "    def __repr__(self):\n",
        "        return f\"Estudiante('{self.nombre}', '{self.ciudad}', {self.cuenta})\"\n",
        "\n",
        "    def escuela(self):\n",
        "        return f\"¿Cuál es tu escuela {self.cuenta}?\"\n",
        "\n",
        "d = Estudiante(\"Verania\", \"Apan\", 12345)\n",
        "d, d.saludo(), d.escuela()"
      ]
    },
    {
      "cell_type": "code",
      "execution_count": null,
      "metadata": {
        "id": "xMDnN2T9SfvO"
      },
      "outputs": [],
      "source": [
        "v = Estudiante('Verania', 'Apan', 12345)\n",
        "v"
      ]
    },
    {
      "cell_type": "markdown",
      "metadata": {
        "id": "jc1JnAHfSfvO"
      },
      "source": [
        "Cuando una clase hereda a otra (como aquí `Estudiante` hereda a `Persona`), se dice que `Estudiante` es una subclase de `Persona`. (lo que estamos haciendo en *subclassing*).\n",
        "\n",
        "Otra manera:\n",
        "\n"
      ]
    },
    {
      "cell_type": "code",
      "execution_count": null,
      "metadata": {
        "id": "tn3fO3rtSfvO"
      },
      "outputs": [],
      "source": [
        "class Estudiante(Persona):\n",
        "    def __init__(self, nombre, ciudad, cuenta):\n",
        "        super().__init__(nombre, ciudad)\n",
        "        self.cuenta = cuenta\n",
        "\n",
        "    def __repr__(self):\n",
        "        return f\"Estudiante('{self.nombre}', '{self.ciudad}', {self.cuenta})\"\n",
        "\n",
        "    def número(self):\n",
        "        return f\"{self.nombre} tiene número de cuenta {self.cuenta}.\"\n",
        "\n",
        "d = Estudiante(\"Verania\", \"Apan\", \"12345\")\n",
        "d, d.saludo(), d.número()"
      ]
    }
  ],
  "metadata": {
    "kernelspec": {
      "display_name": "Python 3",
      "language": "python",
      "name": "python3"
    },
    "language_info": {
      "codemirror_mode": {
        "name": "ipython",
        "version": 3
      },
      "file_extension": ".py",
      "mimetype": "text/x-python",
      "name": "python",
      "nbconvert_exporter": "python",
      "pygments_lexer": "ipython3",
      "version": "3.9.2"
    },
    "org": null,
    "colab": {
      "provenance": [],
      "include_colab_link": true
    }
  },
  "nbformat": 4,
  "nbformat_minor": 0
}