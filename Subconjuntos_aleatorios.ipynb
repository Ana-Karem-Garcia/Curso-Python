{
  "nbformat": 4,
  "nbformat_minor": 0,
  "metadata": {
    "colab": {
      "provenance": [],
      "authorship_tag": "ABX9TyNYl0Qd1n/nAjmj3/Tc07to",
      "include_colab_link": true
    },
    "kernelspec": {
      "name": "python3",
      "display_name": "Python 3"
    },
    "language_info": {
      "name": "python"
    }
  },
  "cells": [
    {
      "cell_type": "markdown",
      "metadata": {
        "id": "view-in-github",
        "colab_type": "text"
      },
      "source": [
        "<a href=\"https://colab.research.google.com/github/Ana-Karem-Garcia/Curso-Python/blob/main/Subconjuntos_aleatorios.ipynb\" target=\"_parent\"><img src=\"https://colab.research.google.com/assets/colab-badge.svg\" alt=\"Open In Colab\"/></a>"
      ]
    },
    {
      "cell_type": "code",
      "execution_count": null,
      "metadata": {
        "id": "y4wM4HE6DclB"
      },
      "outputs": [],
      "source": []
    },
    {
      "cell_type": "markdown",
      "source": [
        "En una libreta de jupyter nueva, define una función tal que, dados argumentos: cantidad y rango (dos enteros positivos), regrese un conjunto con cantidad números enteros aleatorios, que pueden estar entre -rango y rango.\n",
        "Define ahora una función tal que, dado un conjunto de números enteros, regrese un subconjunto del conjunto tal que la suma de los elementos del subconjunto sea 0. Si no existe tal conjunto, la función debe regresar False."
      ],
      "metadata": {
        "id": "N3plr5oSDxc2"
      }
    },
    {
      "cell_type": "code",
      "source": [
        "from random import randint\n",
        "from itertools import combinations\n",
        "\n",
        "cant=eval(input('la cantidad es:'))\n",
        "rango=eval(input('el rango es: '))\n",
        "\n",
        "def conjunto_aleatorio(r,c):\n",
        "    return {randint(-r,r) for i in range(c)}\n",
        "\n",
        "A=conjunto_aleatorio(rango,cant)\n",
        "A\n"
      ],
      "metadata": {
        "colab": {
          "base_uri": "https://localhost:8080/"
        },
        "id": "BK8NK19HM0bK",
        "outputId": "87083a3f-8032-43e4-fdd4-7e34d2e27bbf"
      },
      "execution_count": 55,
      "outputs": [
        {
          "name": "stdout",
          "output_type": "stream",
          "text": [
            "la cantidad es:5\n",
            "el rango es: 10\n"
          ]
        },
        {
          "output_type": "execute_result",
          "data": {
            "text/plain": [
              "{0, 1, 3, 8, 9}"
            ]
          },
          "metadata": {},
          "execution_count": 55
        }
      ]
    },
    {
      "cell_type": "code",
      "source": [
        "from itertools import combinations\n",
        "\n",
        "def subconjunto(conjunto):\n",
        "    todos=[]\n",
        "    for i in range(len(conjunto)+1):\n",
        "        for sub in combinations(conjunto,i):\n",
        "            todos.append(set(sub))\n",
        "    return todos\n",
        "\n",
        "subconjunto(A)\n"
      ],
      "metadata": {
        "colab": {
          "base_uri": "https://localhost:8080/"
        },
        "outputId": "79b4fd83-0775-49e4-b7b8-52c02e2e1511",
        "id": "nUnMf7xTP9AF"
      },
      "execution_count": 56,
      "outputs": [
        {
          "output_type": "execute_result",
          "data": {
            "text/plain": [
              "[set(),\n",
              " {0},\n",
              " {1},\n",
              " {3},\n",
              " {8},\n",
              " {9},\n",
              " {0, 1},\n",
              " {0, 3},\n",
              " {0, 8},\n",
              " {0, 9},\n",
              " {1, 3},\n",
              " {1, 8},\n",
              " {1, 9},\n",
              " {3, 8},\n",
              " {3, 9},\n",
              " {8, 9},\n",
              " {0, 1, 3},\n",
              " {0, 1, 8},\n",
              " {0, 1, 9},\n",
              " {0, 3, 8},\n",
              " {0, 3, 9},\n",
              " {0, 8, 9},\n",
              " {1, 3, 8},\n",
              " {1, 3, 9},\n",
              " {1, 8, 9},\n",
              " {3, 8, 9},\n",
              " {0, 1, 3, 8},\n",
              " {0, 1, 3, 9},\n",
              " {0, 1, 8, 9},\n",
              " {0, 3, 8, 9},\n",
              " {1, 3, 8, 9},\n",
              " {0, 1, 3, 8, 9}]"
            ]
          },
          "metadata": {},
          "execution_count": 56
        }
      ]
    },
    {
      "cell_type": "code",
      "source": [
        "def es_factible(conjunto,resultadosuma):\n",
        "    return suma(conjunto)\n",
        "\n",
        "for k in range(todos):\n",
        "    if es_factible(conjunto,resultadosuma):\n",
        "\n"
      ],
      "metadata": {
        "id": "WCXJBTC3UKUm"
      },
      "execution_count": null,
      "outputs": []
    }
  ]
}