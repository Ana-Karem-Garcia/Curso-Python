{
  "cells": [
    {
      "cell_type": "markdown",
      "metadata": {
        "id": "view-in-github",
        "colab_type": "text"
      },
      "source": [
        "<a href=\"https://colab.research.google.com/github/Ana-Karem-Garcia/Curso-Python/blob/main/2022_02_10_conjuntos_diccionarios.ipynb\" target=\"_parent\"><img src=\"https://colab.research.google.com/assets/colab-badge.svg\" alt=\"Open In Colab\"/></a>"
      ]
    },
    {
      "cell_type": "markdown",
      "metadata": {
        "id": "FCbGcREt_LRF"
      },
      "source": [
        "Conjuntos y diccionarios\n",
        "========================\n",
        "\n",
        "**Date:** <2022-02-10 Thu>\n",
        "\n"
      ]
    },
    {
      "cell_type": "markdown",
      "metadata": {
        "id": "sR_X-zxy_LRO"
      },
      "source": [
        "## Conjuntos\n",
        "\n"
      ]
    },
    {
      "cell_type": "markdown",
      "metadata": {
        "id": "p4sYYaMz_LRP"
      },
      "source": [
        "Un conjunto es una estructura de datos parecida a la lista (en el sentido de que es una colección de objetos), pero en donde no importa el orden y no puede haber elementos repetidos.\n",
        "\n"
      ]
    },
    {
      "cell_type": "code",
      "execution_count": 1,
      "metadata": {
        "colab": {
          "base_uri": "https://localhost:8080/"
        },
        "id": "p-TrFWNo_LRQ",
        "outputId": "866ab585-8d53-443b-8fbc-baf2c812005c"
      },
      "outputs": [
        {
          "output_type": "execute_result",
          "data": {
            "text/plain": [
              "{3, 5, 6, 12}"
            ]
          },
          "metadata": {},
          "execution_count": 1
        }
      ],
      "source": [
        "conjunto = {3, 5, 6, 12, 3}\n",
        "conjunto"
      ]
    },
    {
      "cell_type": "code",
      "execution_count": 2,
      "metadata": {
        "colab": {
          "base_uri": "https://localhost:8080/"
        },
        "id": "9olRjSQW_LRS",
        "outputId": "ea8b3dfb-df2a-45d3-b0e8-83b7f654b113"
      },
      "outputs": [
        {
          "output_type": "execute_result",
          "data": {
            "text/plain": [
              "{4, 4.111, 'Hola'}"
            ]
          },
          "metadata": {},
          "execution_count": 2
        }
      ],
      "source": [
        "conjunto2 = {\"Hola\", 4, 4.111}\n",
        "conjunto2"
      ]
    },
    {
      "cell_type": "code",
      "execution_count": 5,
      "metadata": {
        "colab": {
          "base_uri": "https://localhost:8080/"
        },
        "id": "Ci-0EbMn_LRS",
        "outputId": "be9a5117-d8d8-485d-9b68-3f51afff5bf9"
      },
      "outputs": [
        {
          "output_type": "execute_result",
          "data": {
            "text/plain": [
              "(True, False)"
            ]
          },
          "metadata": {},
          "execution_count": 5
        }
      ],
      "source": [
        "3 in conjunto, 5 in conjunto2"
      ]
    },
    {
      "cell_type": "markdown",
      "metadata": {
        "id": "IvwR1t31_LRT"
      },
      "source": [
        "Los conjuntos tienen un método que se llama `union`. Sin embargo el método `union` a diferencia del método `append` de las listas, no cambia el objeto al que se le aplica, si no que se comporta como una función. La palabra oficial es que `append` se manifiesta *in place*.\n",
        "\n"
      ]
    },
    {
      "cell_type": "code",
      "execution_count": 6,
      "metadata": {
        "colab": {
          "base_uri": "https://localhost:8080/"
        },
        "id": "J5saI-M3_LRU",
        "outputId": "638d1831-e19d-4d17-c267-80a2fb399736"
      },
      "outputs": [
        {
          "output_type": "execute_result",
          "data": {
            "text/plain": [
              "{12, 3, 4, 4.111, 5, 6, 'Hola'}"
            ]
          },
          "metadata": {},
          "execution_count": 6
        }
      ],
      "source": [
        "conjunto3 = conjunto.union(conjunto2)\n",
        "conjunto3"
      ]
    },
    {
      "cell_type": "code",
      "execution_count": 8,
      "metadata": {
        "colab": {
          "base_uri": "https://localhost:8080/"
        },
        "id": "6AWzZZAM_LRU",
        "outputId": "bad26b9c-2f36-4488-c27e-ff653faa903e"
      },
      "outputs": [
        {
          "output_type": "execute_result",
          "data": {
            "text/plain": [
              "{3, 4, 'Hola'}"
            ]
          },
          "metadata": {},
          "execution_count": 8
        }
      ],
      "source": [
        "conjunto4 = conjunto3.intersection({1,2,3,4,\"Hola\"})\n",
        "conjunto4"
      ]
    },
    {
      "cell_type": "markdown",
      "metadata": {
        "id": "DKol_zUn_LRV"
      },
      "source": [
        "Una lista se puede convertir en un conjunto por medio de la función `set`. Un conjunto se puede convertir en una lista por medio de la función `list`.\n",
        "\n"
      ]
    },
    {
      "cell_type": "code",
      "execution_count": 9,
      "metadata": {
        "colab": {
          "base_uri": "https://localhost:8080/"
        },
        "id": "szIEnCMU_LRW",
        "outputId": "f1e724b8-5256-4894-eb69-115766662433"
      },
      "outputs": [
        {
          "output_type": "execute_result",
          "data": {
            "text/plain": [
              "['Juan Diego', 'Verania', 'Rosa', 'Yessica', 'Karen', 'Uriel', 'Ruth']"
            ]
          },
          "metadata": {},
          "execution_count": 9
        }
      ],
      "source": [
        "inscritos = [\"Juan Diego\", \"Verania\", \"Rosa\", \"Yessica\", \"Karen\"]\n",
        "oyentes = [\"Uriel\", \"Ruth\"]\n",
        "estudiantes = inscritos + oyentes\n",
        "estudiantes"
      ]
    },
    {
      "cell_type": "code",
      "execution_count": 10,
      "metadata": {
        "colab": {
          "base_uri": "https://localhost:8080/"
        },
        "id": "roPvYb0n_LRX",
        "outputId": "fd9ef910-edc7-405f-add0-a971fe3f4728"
      },
      "outputs": [
        {
          "output_type": "execute_result",
          "data": {
            "text/plain": [
              "{'Juan Diego', 'Karen', 'Rosa', 'Ruth', 'Uriel', 'Verania', 'Yessica'}"
            ]
          },
          "metadata": {},
          "execution_count": 10
        }
      ],
      "source": [
        "est_conjunto = set(estudiantes)\n",
        "est_conjunto"
      ]
    },
    {
      "cell_type": "code",
      "execution_count": 11,
      "metadata": {
        "colab": {
          "base_uri": "https://localhost:8080/"
        },
        "id": "P_lFTbYi_LRZ",
        "outputId": "0fca87f2-50d8-4192-f9ff-fd64a3489fed"
      },
      "outputs": [
        {
          "output_type": "execute_result",
          "data": {
            "text/plain": [
              "['Karen', 'Rosa', 'Ruth', 'Yessica', 'Verania', 'Juan Diego', 'Uriel']"
            ]
          },
          "metadata": {},
          "execution_count": 11
        }
      ],
      "source": [
        "lista_est = list(est_conjunto)\n",
        "lista_est"
      ]
    },
    {
      "cell_type": "markdown",
      "metadata": {
        "id": "3ViD1Osz_LRa"
      },
      "source": [
        "## Diccionarios\n",
        "\n"
      ]
    },
    {
      "cell_type": "markdown",
      "metadata": {
        "id": "a9wUANY3_LRb"
      },
      "source": [
        "Supongamos que voy a guardar las calificaciones de las estudiantes. Karen, Rosa, Verania, Yessica. Podríamos incluirlas en una lista, pero entonces debemos recordar el orden.\n",
        "\n"
      ]
    },
    {
      "cell_type": "code",
      "execution_count": null,
      "metadata": {
        "id": "wXdBMEVB_LRc"
      },
      "outputs": [],
      "source": [
        "calificaciones = [9, 8.9, 7, 8]"
      ]
    },
    {
      "cell_type": "markdown",
      "metadata": {
        "id": "8BVCVTyQ_LRd"
      },
      "source": [
        "Un diccionario es una estructura de datos más apropiada.\n",
        "\n"
      ]
    },
    {
      "cell_type": "code",
      "execution_count": 12,
      "metadata": {
        "colab": {
          "base_uri": "https://localhost:8080/"
        },
        "id": "8M4Ve4XF_LRd",
        "outputId": "02dcd59c-597d-4378-c7aa-781e27e41551"
      },
      "outputs": [
        {
          "output_type": "execute_result",
          "data": {
            "text/plain": [
              "{'Karen': 8, 'Rosa': 8.9, 'Verania': 7, 'Yessica': 8}"
            ]
          },
          "metadata": {},
          "execution_count": 12
        }
      ],
      "source": [
        "calificaciones = {\"Karen\":8, \"Rosa\":8.9, \"Verania\":7, \"Yessica\": 8}\n",
        "calificaciones"
      ]
    },
    {
      "cell_type": "code",
      "execution_count": 13,
      "metadata": {
        "colab": {
          "base_uri": "https://localhost:8080/"
        },
        "id": "o2SsVbzA_LRd",
        "outputId": "9277a4e7-1468-45d7-b02e-1077c23af0d1"
      },
      "outputs": [
        {
          "output_type": "execute_result",
          "data": {
            "text/plain": [
              "7"
            ]
          },
          "metadata": {},
          "execution_count": 13
        }
      ],
      "source": [
        "calificaciones[\"Verania\"]"
      ]
    },
    {
      "cell_type": "markdown",
      "metadata": {
        "id": "mcxmuKLW_LRe"
      },
      "source": [
        "Nuevas entradas se pueden asignar:\n",
        "\n"
      ]
    },
    {
      "cell_type": "code",
      "execution_count": 14,
      "metadata": {
        "colab": {
          "base_uri": "https://localhost:8080/"
        },
        "id": "qnhfXcCs_LRf",
        "outputId": "a099e6ad-a8d8-4efd-d176-c9bcebe52dfe"
      },
      "outputs": [
        {
          "output_type": "execute_result",
          "data": {
            "text/plain": [
              "{'Karen': 8, 'Rosa': 8.9, 'Verania': 7, 'Yessica': 8, 'Juan Diego': 10}"
            ]
          },
          "metadata": {},
          "execution_count": 14
        }
      ],
      "source": [
        "calificaciones[\"Juan Diego\"] = 10\n",
        "calificaciones"
      ]
    },
    {
      "cell_type": "code",
      "execution_count": 15,
      "metadata": {
        "colab": {
          "base_uri": "https://localhost:8080/"
        },
        "id": "mQvUgajL_LRf",
        "outputId": "f3201041-c554-4fbe-bbf6-a894e0a14344"
      },
      "outputs": [
        {
          "output_type": "execute_result",
          "data": {
            "text/plain": [
              "['Karen', 'Rosa', 'Verania', 'Yessica', 'Juan Diego']"
            ]
          },
          "metadata": {},
          "execution_count": 15
        }
      ],
      "source": [
        "llaves = calificaciones.keys()\n",
        "lista_llaves = list(llaves)\n",
        "lista_llaves"
      ]
    },
    {
      "cell_type": "code",
      "execution_count": 16,
      "metadata": {
        "colab": {
          "base_uri": "https://localhost:8080/"
        },
        "id": "lwQVn6o6_LRg",
        "outputId": "54ca0dc8-b39e-4b17-8d46-678434910ba4"
      },
      "outputs": [
        {
          "output_type": "execute_result",
          "data": {
            "text/plain": [
              "dict_values([8, 8.9, 7, 8, 10])"
            ]
          },
          "metadata": {},
          "execution_count": 16
        }
      ],
      "source": [
        "valores = calificaciones.values()\n",
        "valores"
      ]
    }
  ],
  "metadata": {
    "kernelspec": {
      "display_name": "Python 3",
      "language": "python",
      "name": "python3"
    },
    "language_info": {
      "codemirror_mode": {
        "name": "ipython",
        "version": 3
      },
      "file_extension": ".py",
      "mimetype": "text/x-python",
      "name": "python",
      "nbconvert_exporter": "python",
      "pygments_lexer": "ipython3",
      "version": "3.9.2"
    },
    "org": null,
    "colab": {
      "provenance": [],
      "include_colab_link": true
    }
  },
  "nbformat": 4,
  "nbformat_minor": 0
}