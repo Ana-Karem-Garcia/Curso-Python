{
  "nbformat": 4,
  "nbformat_minor": 0,
  "metadata": {
    "colab": {
      "provenance": [],
      "authorship_tag": "ABX9TyMcS4A004di9zImVjQzsQZ8",
      "include_colab_link": true
    },
    "kernelspec": {
      "name": "python3",
      "display_name": "Python 3"
    },
    "language_info": {
      "name": "python"
    }
  },
  "cells": [
    {
      "cell_type": "markdown",
      "metadata": {
        "id": "view-in-github",
        "colab_type": "text"
      },
      "source": [
        "<a href=\"https://colab.research.google.com/github/Ana-Karem-Garcia/Curso-Python/blob/main/Examen1.ipynb\" target=\"_parent\"><img src=\"https://colab.research.google.com/assets/colab-badge.svg\" alt=\"Open In Colab\"/></a>"
      ]
    },
    {
      "cell_type": "markdown",
      "source": [
        "#### Examen 1er Parcial\n",
        "\n",
        "Dado un entero n, determina la lista de todos los numeros de Fibonacci menores que n que sean multiplos de 5"
      ],
      "metadata": {
        "id": "zBWWq7TGNfmh"
      }
    },
    {
      "cell_type": "markdown",
      "source": [
        "Primero daremos una funcion que de los numeros de Fibonacci para observar cuales son los numeros de Fibonacci que son multiplos de 5"
      ],
      "metadata": {
        "id": "5BVmFU7fSIH0"
      }
    },
    {
      "cell_type": "code",
      "execution_count": 15,
      "metadata": {
        "id": "Lfha5jSU9rGm",
        "colab": {
          "base_uri": "https://localhost:8080/"
        },
        "outputId": "7961cd6f-1bc3-4e29-ba93-fd4c2b8896e0"
      },
      "outputs": [
        {
          "output_type": "stream",
          "name": "stdout",
          "text": [
            "0\n",
            "1\n",
            "1\n",
            "2\n",
            "3\n",
            "5\n",
            "8\n",
            "13\n",
            "21\n",
            "34\n",
            "55\n",
            "89\n",
            "144\n",
            "233\n",
            "377\n",
            "610\n",
            "987\n",
            "1597\n",
            "2584\n",
            "4181\n",
            "6765\n"
          ]
        }
      ],
      "source": [
        "a, b = 0, 1\n",
        "\n",
        "while a < 10000:\n",
        "    print(a)\n",
        "    a, b = b, a+b\n"
      ]
    },
    {
      "cell_type": "markdown",
      "source": [
        "Ahora daremos una funcion que nos diga cuales son los numeros de Fibonacci menores que un n dado que sean multiplos de 5"
      ],
      "metadata": {
        "id": "11UF7sD0SeZ2"
      }
    },
    {
      "cell_type": "code",
      "source": [
        "def fibonacci(n):\n",
        "    fibs=[]\n",
        "    a,b=0,1\n",
        "    while a < n:\n",
        "        if a % 5 == 0:\n",
        "            fibs.append(a)\n",
        "        a, b= b, a+b\n",
        "    return fibs\n",
        "\n",
        "fibonacci(10000)"
      ],
      "metadata": {
        "colab": {
          "base_uri": "https://localhost:8080/"
        },
        "id": "0TzGkIbAOCWp",
        "outputId": "ff232c65-ddcb-42e1-e8b5-44df9b6d1c4a"
      },
      "execution_count": 17,
      "outputs": [
        {
          "output_type": "execute_result",
          "data": {
            "text/plain": [
              "[0, 5, 55, 610, 6765]"
            ]
          },
          "metadata": {},
          "execution_count": 17
        }
      ]
    },
    {
      "cell_type": "markdown",
      "source": [
        "Finalmente coinciden los numeros observados con los que nos dio la funcion fibonacci(n)"
      ],
      "metadata": {
        "id": "5o6KwD-qS6BI"
      }
    }
  ]
}