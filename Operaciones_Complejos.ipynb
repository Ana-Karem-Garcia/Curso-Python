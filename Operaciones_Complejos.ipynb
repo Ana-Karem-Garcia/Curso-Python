{
  "nbformat": 4,
  "nbformat_minor": 0,
  "metadata": {
    "colab": {
      "provenance": [],
      "authorship_tag": "ABX9TyOf+0Hyu5fCgKLA+ZWGwbrQ",
      "include_colab_link": true
    },
    "kernelspec": {
      "name": "python3",
      "display_name": "Python 3"
    },
    "language_info": {
      "name": "python"
    }
  },
  "cells": [
    {
      "cell_type": "markdown",
      "metadata": {
        "id": "view-in-github",
        "colab_type": "text"
      },
      "source": [
        "<a href=\"https://colab.research.google.com/github/Ana-Karem-Garcia/Curso-Python/blob/main/Operaciones_Complejos.ipynb\" target=\"_parent\"><img src=\"https://colab.research.google.com/assets/colab-badge.svg\" alt=\"Open In Colab\"/></a>"
      ]
    },
    {
      "cell_type": "markdown",
      "source": [
        "Para definir la resta de complejos, se define el metodo `__sub__` ,para definir la multiplicacion de complejos, se define el metedo `__mul__` , cuyos argumentos son `self` y `other` para ambas operaciones\n"
      ],
      "metadata": {
        "id": "tj361WyUeAo_"
      }
    },
    {
      "cell_type": "code",
      "source": [
        "from sympy import sqrt\n",
        "\n",
        "class Complejo:\n",
        "    def __init__(self, parte_real, parte_imaginaria):\n",
        "        self.r=parte_real\n",
        "        self.i=parte_imaginaria\n",
        "\n",
        "    def __repr__(self):\n",
        "        return f\"Complejo({self.r},{self.i})\"\n",
        "\n",
        "    def __sub__(self,other):\n",
        "        return Complejo(self.r - other.r, self.i - other.i)\n",
        "\n",
        "    def __mul__(self,other):\n",
        "        return Complejo((self.r*other.r)-(self.i*other.i) ,(self.r*other.i)+(self.i*other.r))\n"
      ],
      "metadata": {
        "id": "Wy7S_5xzTBET"
      },
      "execution_count": 21,
      "outputs": []
    },
    {
      "cell_type": "code",
      "source": [
        "z = Complejo(5,8)\n",
        "w = Complejo(3,4)\n",
        "z, w, z-w , z*w"
      ],
      "metadata": {
        "colab": {
          "base_uri": "https://localhost:8080/"
        },
        "id": "J1e3GpJ2VAsI",
        "outputId": "ff53721d-1e0d-4df7-d40d-f6155f63f468"
      },
      "execution_count": 22,
      "outputs": [
        {
          "output_type": "execute_result",
          "data": {
            "text/plain": [
              "(Complejo(5,8), Complejo(3,4), Complejo(2,4), Complejo(-17,44))"
            ]
          },
          "metadata": {},
          "execution_count": 22
        }
      ]
    }
  ]
}